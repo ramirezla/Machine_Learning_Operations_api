{
 "cells": [
  {
   "cell_type": "markdown",
   "metadata": {},
   "source": [
    "**`Importando las librerias`**"
   ]
  },
  {
   "cell_type": "code",
   "execution_count": 3,
   "metadata": {},
   "outputs": [],
   "source": [
    "import pandas as pd\n",
    "import numpy as np\n",
    "import ast\n",
    "import math\n",
    "\n",
    "import matplotlib.pyplot as plt\n",
    "import seaborn as sns"
   ]
  },
  {
   "cell_type": "markdown",
   "metadata": {},
   "source": [
    "- - -\n",
    "\n",
    "# <h2 align=center> **ETL - Extraction, Transformation and Loading** </h1>"
   ]
  },
  {
   "cell_type": "markdown",
   "metadata": {},
   "source": [
    "1.- **`Se importan los datos desde el dataset: movies_dataset.csv`**."
   ]
  },
  {
   "cell_type": "code",
   "execution_count": 6,
   "metadata": {},
   "outputs": [
    {
     "name": "stderr",
     "output_type": "stream",
     "text": [
      "/data/Cursos/HenryData-PT02/COHORTE01/Proyectos/PI_ML_OPS-main_fastapi/venv/lib64/python3.6/site-packages/IPython/core/interactiveshell.py:3072: DtypeWarning: Columns (10) have mixed types.Specify dtype option on import or set low_memory=False.\n",
      "  interactivity=interactivity, compiler=compiler, result=result)\n"
     ]
    }
   ],
   "source": [
    "ruta_archivo = \"./Datasets/movies_dataset.csv\"\n",
    "df_movies = pd.read_csv(ruta_archivo)"
   ]
  },
  {
   "cell_type": "code",
   "execution_count": 7,
   "metadata": {},
   "outputs": [
    {
     "data": {
      "text/html": [
       "<div>\n",
       "<style scoped>\n",
       "    .dataframe tbody tr th:only-of-type {\n",
       "        vertical-align: middle;\n",
       "    }\n",
       "\n",
       "    .dataframe tbody tr th {\n",
       "        vertical-align: top;\n",
       "    }\n",
       "\n",
       "    .dataframe thead th {\n",
       "        text-align: right;\n",
       "    }\n",
       "</style>\n",
       "<table border=\"1\" class=\"dataframe\">\n",
       "  <thead>\n",
       "    <tr style=\"text-align: right;\">\n",
       "      <th></th>\n",
       "      <th>0</th>\n",
       "      <th>1</th>\n",
       "      <th>2</th>\n",
       "      <th>3</th>\n",
       "      <th>4</th>\n",
       "    </tr>\n",
       "  </thead>\n",
       "  <tbody>\n",
       "    <tr>\n",
       "      <th>adult</th>\n",
       "      <td>False</td>\n",
       "      <td>False</td>\n",
       "      <td>False</td>\n",
       "      <td>False</td>\n",
       "      <td>False</td>\n",
       "    </tr>\n",
       "    <tr>\n",
       "      <th>belongs_to_collection</th>\n",
       "      <td>{'id': 10194, 'name': 'Toy Story Collection', ...</td>\n",
       "      <td>NaN</td>\n",
       "      <td>{'id': 119050, 'name': 'Grumpy Old Men Collect...</td>\n",
       "      <td>NaN</td>\n",
       "      <td>{'id': 96871, 'name': 'Father of the Bride Col...</td>\n",
       "    </tr>\n",
       "    <tr>\n",
       "      <th>budget</th>\n",
       "      <td>30000000</td>\n",
       "      <td>65000000</td>\n",
       "      <td>0</td>\n",
       "      <td>16000000</td>\n",
       "      <td>0</td>\n",
       "    </tr>\n",
       "    <tr>\n",
       "      <th>genres</th>\n",
       "      <td>[{'id': 16, 'name': 'Animation'}, {'id': 35, '...</td>\n",
       "      <td>[{'id': 12, 'name': 'Adventure'}, {'id': 14, '...</td>\n",
       "      <td>[{'id': 10749, 'name': 'Romance'}, {'id': 35, ...</td>\n",
       "      <td>[{'id': 35, 'name': 'Comedy'}, {'id': 18, 'nam...</td>\n",
       "      <td>[{'id': 35, 'name': 'Comedy'}]</td>\n",
       "    </tr>\n",
       "    <tr>\n",
       "      <th>homepage</th>\n",
       "      <td>http://toystory.disney.com/toy-story</td>\n",
       "      <td>NaN</td>\n",
       "      <td>NaN</td>\n",
       "      <td>NaN</td>\n",
       "      <td>NaN</td>\n",
       "    </tr>\n",
       "    <tr>\n",
       "      <th>id</th>\n",
       "      <td>862</td>\n",
       "      <td>8844</td>\n",
       "      <td>15602</td>\n",
       "      <td>31357</td>\n",
       "      <td>11862</td>\n",
       "    </tr>\n",
       "    <tr>\n",
       "      <th>imdb_id</th>\n",
       "      <td>tt0114709</td>\n",
       "      <td>tt0113497</td>\n",
       "      <td>tt0113228</td>\n",
       "      <td>tt0114885</td>\n",
       "      <td>tt0113041</td>\n",
       "    </tr>\n",
       "    <tr>\n",
       "      <th>original_language</th>\n",
       "      <td>en</td>\n",
       "      <td>en</td>\n",
       "      <td>en</td>\n",
       "      <td>en</td>\n",
       "      <td>en</td>\n",
       "    </tr>\n",
       "    <tr>\n",
       "      <th>original_title</th>\n",
       "      <td>Toy Story</td>\n",
       "      <td>Jumanji</td>\n",
       "      <td>Grumpier Old Men</td>\n",
       "      <td>Waiting to Exhale</td>\n",
       "      <td>Father of the Bride Part II</td>\n",
       "    </tr>\n",
       "    <tr>\n",
       "      <th>overview</th>\n",
       "      <td>Led by Woody, Andy's toys live happily in his ...</td>\n",
       "      <td>When siblings Judy and Peter discover an encha...</td>\n",
       "      <td>A family wedding reignites the ancient feud be...</td>\n",
       "      <td>Cheated on, mistreated and stepped on, the wom...</td>\n",
       "      <td>Just when George Banks has recovered from his ...</td>\n",
       "    </tr>\n",
       "    <tr>\n",
       "      <th>popularity</th>\n",
       "      <td>21.9469</td>\n",
       "      <td>17.0155</td>\n",
       "      <td>11.7129</td>\n",
       "      <td>3.85949</td>\n",
       "      <td>8.38752</td>\n",
       "    </tr>\n",
       "    <tr>\n",
       "      <th>poster_path</th>\n",
       "      <td>/rhIRbceoE9lR4veEXuwCC2wARtG.jpg</td>\n",
       "      <td>/vzmL6fP7aPKNKPRTFnZmiUfciyV.jpg</td>\n",
       "      <td>/6ksm1sjKMFLbO7UY2i6G1ju9SML.jpg</td>\n",
       "      <td>/16XOMpEaLWkrcPqSQqhTmeJuqQl.jpg</td>\n",
       "      <td>/e64sOI48hQXyru7naBFyssKFxVd.jpg</td>\n",
       "    </tr>\n",
       "    <tr>\n",
       "      <th>production_companies</th>\n",
       "      <td>[{'name': 'Pixar Animation Studios', 'id': 3}]</td>\n",
       "      <td>[{'name': 'TriStar Pictures', 'id': 559}, {'na...</td>\n",
       "      <td>[{'name': 'Warner Bros.', 'id': 6194}, {'name'...</td>\n",
       "      <td>[{'name': 'Twentieth Century Fox Film Corporat...</td>\n",
       "      <td>[{'name': 'Sandollar Productions', 'id': 5842}...</td>\n",
       "    </tr>\n",
       "    <tr>\n",
       "      <th>production_countries</th>\n",
       "      <td>[{'iso_3166_1': 'US', 'name': 'United States o...</td>\n",
       "      <td>[{'iso_3166_1': 'US', 'name': 'United States o...</td>\n",
       "      <td>[{'iso_3166_1': 'US', 'name': 'United States o...</td>\n",
       "      <td>[{'iso_3166_1': 'US', 'name': 'United States o...</td>\n",
       "      <td>[{'iso_3166_1': 'US', 'name': 'United States o...</td>\n",
       "    </tr>\n",
       "    <tr>\n",
       "      <th>release_date</th>\n",
       "      <td>1995-10-30</td>\n",
       "      <td>1995-12-15</td>\n",
       "      <td>1995-12-22</td>\n",
       "      <td>1995-12-22</td>\n",
       "      <td>1995-02-10</td>\n",
       "    </tr>\n",
       "    <tr>\n",
       "      <th>revenue</th>\n",
       "      <td>3.73554e+08</td>\n",
       "      <td>2.62797e+08</td>\n",
       "      <td>0</td>\n",
       "      <td>8.14522e+07</td>\n",
       "      <td>7.65789e+07</td>\n",
       "    </tr>\n",
       "    <tr>\n",
       "      <th>runtime</th>\n",
       "      <td>81</td>\n",
       "      <td>104</td>\n",
       "      <td>101</td>\n",
       "      <td>127</td>\n",
       "      <td>106</td>\n",
       "    </tr>\n",
       "    <tr>\n",
       "      <th>spoken_languages</th>\n",
       "      <td>[{'iso_639_1': 'en', 'name': 'English'}]</td>\n",
       "      <td>[{'iso_639_1': 'en', 'name': 'English'}, {'iso...</td>\n",
       "      <td>[{'iso_639_1': 'en', 'name': 'English'}]</td>\n",
       "      <td>[{'iso_639_1': 'en', 'name': 'English'}]</td>\n",
       "      <td>[{'iso_639_1': 'en', 'name': 'English'}]</td>\n",
       "    </tr>\n",
       "    <tr>\n",
       "      <th>status</th>\n",
       "      <td>Released</td>\n",
       "      <td>Released</td>\n",
       "      <td>Released</td>\n",
       "      <td>Released</td>\n",
       "      <td>Released</td>\n",
       "    </tr>\n",
       "    <tr>\n",
       "      <th>tagline</th>\n",
       "      <td>NaN</td>\n",
       "      <td>Roll the dice and unleash the excitement!</td>\n",
       "      <td>Still Yelling. Still Fighting. Still Ready for...</td>\n",
       "      <td>Friends are the people who let you be yourself...</td>\n",
       "      <td>Just When His World Is Back To Normal... He's ...</td>\n",
       "    </tr>\n",
       "    <tr>\n",
       "      <th>title</th>\n",
       "      <td>Toy Story</td>\n",
       "      <td>Jumanji</td>\n",
       "      <td>Grumpier Old Men</td>\n",
       "      <td>Waiting to Exhale</td>\n",
       "      <td>Father of the Bride Part II</td>\n",
       "    </tr>\n",
       "    <tr>\n",
       "      <th>video</th>\n",
       "      <td>False</td>\n",
       "      <td>False</td>\n",
       "      <td>False</td>\n",
       "      <td>False</td>\n",
       "      <td>False</td>\n",
       "    </tr>\n",
       "    <tr>\n",
       "      <th>vote_average</th>\n",
       "      <td>7.7</td>\n",
       "      <td>6.9</td>\n",
       "      <td>6.5</td>\n",
       "      <td>6.1</td>\n",
       "      <td>5.7</td>\n",
       "    </tr>\n",
       "    <tr>\n",
       "      <th>vote_count</th>\n",
       "      <td>5415</td>\n",
       "      <td>2413</td>\n",
       "      <td>92</td>\n",
       "      <td>34</td>\n",
       "      <td>173</td>\n",
       "    </tr>\n",
       "  </tbody>\n",
       "</table>\n",
       "</div>"
      ],
      "text/plain": [
       "                                                                       0  \\\n",
       "adult                                                              False   \n",
       "belongs_to_collection  {'id': 10194, 'name': 'Toy Story Collection', ...   \n",
       "budget                                                          30000000   \n",
       "genres                 [{'id': 16, 'name': 'Animation'}, {'id': 35, '...   \n",
       "homepage                            http://toystory.disney.com/toy-story   \n",
       "id                                                                   862   \n",
       "imdb_id                                                        tt0114709   \n",
       "original_language                                                     en   \n",
       "original_title                                                 Toy Story   \n",
       "overview               Led by Woody, Andy's toys live happily in his ...   \n",
       "popularity                                                       21.9469   \n",
       "poster_path                             /rhIRbceoE9lR4veEXuwCC2wARtG.jpg   \n",
       "production_companies      [{'name': 'Pixar Animation Studios', 'id': 3}]   \n",
       "production_countries   [{'iso_3166_1': 'US', 'name': 'United States o...   \n",
       "release_date                                                  1995-10-30   \n",
       "revenue                                                      3.73554e+08   \n",
       "runtime                                                               81   \n",
       "spoken_languages                [{'iso_639_1': 'en', 'name': 'English'}]   \n",
       "status                                                          Released   \n",
       "tagline                                                              NaN   \n",
       "title                                                          Toy Story   \n",
       "video                                                              False   \n",
       "vote_average                                                         7.7   \n",
       "vote_count                                                          5415   \n",
       "\n",
       "                                                                       1  \\\n",
       "adult                                                              False   \n",
       "belongs_to_collection                                                NaN   \n",
       "budget                                                          65000000   \n",
       "genres                 [{'id': 12, 'name': 'Adventure'}, {'id': 14, '...   \n",
       "homepage                                                             NaN   \n",
       "id                                                                  8844   \n",
       "imdb_id                                                        tt0113497   \n",
       "original_language                                                     en   \n",
       "original_title                                                   Jumanji   \n",
       "overview               When siblings Judy and Peter discover an encha...   \n",
       "popularity                                                       17.0155   \n",
       "poster_path                             /vzmL6fP7aPKNKPRTFnZmiUfciyV.jpg   \n",
       "production_companies   [{'name': 'TriStar Pictures', 'id': 559}, {'na...   \n",
       "production_countries   [{'iso_3166_1': 'US', 'name': 'United States o...   \n",
       "release_date                                                  1995-12-15   \n",
       "revenue                                                      2.62797e+08   \n",
       "runtime                                                              104   \n",
       "spoken_languages       [{'iso_639_1': 'en', 'name': 'English'}, {'iso...   \n",
       "status                                                          Released   \n",
       "tagline                        Roll the dice and unleash the excitement!   \n",
       "title                                                            Jumanji   \n",
       "video                                                              False   \n",
       "vote_average                                                         6.9   \n",
       "vote_count                                                          2413   \n",
       "\n",
       "                                                                       2  \\\n",
       "adult                                                              False   \n",
       "belongs_to_collection  {'id': 119050, 'name': 'Grumpy Old Men Collect...   \n",
       "budget                                                                 0   \n",
       "genres                 [{'id': 10749, 'name': 'Romance'}, {'id': 35, ...   \n",
       "homepage                                                             NaN   \n",
       "id                                                                 15602   \n",
       "imdb_id                                                        tt0113228   \n",
       "original_language                                                     en   \n",
       "original_title                                          Grumpier Old Men   \n",
       "overview               A family wedding reignites the ancient feud be...   \n",
       "popularity                                                       11.7129   \n",
       "poster_path                             /6ksm1sjKMFLbO7UY2i6G1ju9SML.jpg   \n",
       "production_companies   [{'name': 'Warner Bros.', 'id': 6194}, {'name'...   \n",
       "production_countries   [{'iso_3166_1': 'US', 'name': 'United States o...   \n",
       "release_date                                                  1995-12-22   \n",
       "revenue                                                                0   \n",
       "runtime                                                              101   \n",
       "spoken_languages                [{'iso_639_1': 'en', 'name': 'English'}]   \n",
       "status                                                          Released   \n",
       "tagline                Still Yelling. Still Fighting. Still Ready for...   \n",
       "title                                                   Grumpier Old Men   \n",
       "video                                                              False   \n",
       "vote_average                                                         6.5   \n",
       "vote_count                                                            92   \n",
       "\n",
       "                                                                       3  \\\n",
       "adult                                                              False   \n",
       "belongs_to_collection                                                NaN   \n",
       "budget                                                          16000000   \n",
       "genres                 [{'id': 35, 'name': 'Comedy'}, {'id': 18, 'nam...   \n",
       "homepage                                                             NaN   \n",
       "id                                                                 31357   \n",
       "imdb_id                                                        tt0114885   \n",
       "original_language                                                     en   \n",
       "original_title                                         Waiting to Exhale   \n",
       "overview               Cheated on, mistreated and stepped on, the wom...   \n",
       "popularity                                                       3.85949   \n",
       "poster_path                             /16XOMpEaLWkrcPqSQqhTmeJuqQl.jpg   \n",
       "production_companies   [{'name': 'Twentieth Century Fox Film Corporat...   \n",
       "production_countries   [{'iso_3166_1': 'US', 'name': 'United States o...   \n",
       "release_date                                                  1995-12-22   \n",
       "revenue                                                      8.14522e+07   \n",
       "runtime                                                              127   \n",
       "spoken_languages                [{'iso_639_1': 'en', 'name': 'English'}]   \n",
       "status                                                          Released   \n",
       "tagline                Friends are the people who let you be yourself...   \n",
       "title                                                  Waiting to Exhale   \n",
       "video                                                              False   \n",
       "vote_average                                                         6.1   \n",
       "vote_count                                                            34   \n",
       "\n",
       "                                                                       4  \n",
       "adult                                                              False  \n",
       "belongs_to_collection  {'id': 96871, 'name': 'Father of the Bride Col...  \n",
       "budget                                                                 0  \n",
       "genres                                    [{'id': 35, 'name': 'Comedy'}]  \n",
       "homepage                                                             NaN  \n",
       "id                                                                 11862  \n",
       "imdb_id                                                        tt0113041  \n",
       "original_language                                                     en  \n",
       "original_title                               Father of the Bride Part II  \n",
       "overview               Just when George Banks has recovered from his ...  \n",
       "popularity                                                       8.38752  \n",
       "poster_path                             /e64sOI48hQXyru7naBFyssKFxVd.jpg  \n",
       "production_companies   [{'name': 'Sandollar Productions', 'id': 5842}...  \n",
       "production_countries   [{'iso_3166_1': 'US', 'name': 'United States o...  \n",
       "release_date                                                  1995-02-10  \n",
       "revenue                                                      7.65789e+07  \n",
       "runtime                                                              106  \n",
       "spoken_languages                [{'iso_639_1': 'en', 'name': 'English'}]  \n",
       "status                                                          Released  \n",
       "tagline                Just When His World Is Back To Normal... He's ...  \n",
       "title                                        Father of the Bride Part II  \n",
       "video                                                              False  \n",
       "vote_average                                                         5.7  \n",
       "vote_count                                                           173  "
      ]
     },
     "execution_count": 7,
     "metadata": {},
     "output_type": "execute_result"
    }
   ],
   "source": [
    "# Se muestra la cabecera para observar parte de los datos y las columnas\n",
    "\n",
    "df_movies.head().T"
   ]
  },
  {
   "cell_type": "code",
   "execution_count": 8,
   "metadata": {},
   "outputs": [
    {
     "data": {
      "text/plain": [
       "(45466, 24)"
      ]
     },
     "execution_count": 8,
     "metadata": {},
     "output_type": "execute_result"
    }
   ],
   "source": [
    "# Se verifica la cantidad de columnas y filas\n",
    "\n",
    "df_movies.shape"
   ]
  },
  {
   "cell_type": "code",
   "execution_count": 9,
   "metadata": {},
   "outputs": [
    {
     "name": "stdout",
     "output_type": "stream",
     "text": [
      "<class 'pandas.core.frame.DataFrame'>\n",
      "RangeIndex: 45466 entries, 0 to 45465\n",
      "Data columns (total 24 columns):\n",
      " #   Column                 Non-Null Count  Dtype  \n",
      "---  ------                 --------------  -----  \n",
      " 0   adult                  45466 non-null  object \n",
      " 1   belongs_to_collection  4494 non-null   object \n",
      " 2   budget                 45466 non-null  object \n",
      " 3   genres                 45466 non-null  object \n",
      " 4   homepage               7782 non-null   object \n",
      " 5   id                     45466 non-null  object \n",
      " 6   imdb_id                45449 non-null  object \n",
      " 7   original_language      45455 non-null  object \n",
      " 8   original_title         45466 non-null  object \n",
      " 9   overview               44512 non-null  object \n",
      " 10  popularity             45461 non-null  object \n",
      " 11  poster_path            45080 non-null  object \n",
      " 12  production_companies   45463 non-null  object \n",
      " 13  production_countries   45463 non-null  object \n",
      " 14  release_date           45379 non-null  object \n",
      " 15  revenue                45460 non-null  float64\n",
      " 16  runtime                45203 non-null  float64\n",
      " 17  spoken_languages       45460 non-null  object \n",
      " 18  status                 45379 non-null  object \n",
      " 19  tagline                20412 non-null  object \n",
      " 20  title                  45460 non-null  object \n",
      " 21  video                  45460 non-null  object \n",
      " 22  vote_average           45460 non-null  float64\n",
      " 23  vote_count             45460 non-null  float64\n",
      "dtypes: float64(4), object(20)\n",
      "memory usage: 8.3+ MB\n"
     ]
    }
   ],
   "source": [
    "# Se muestra la informacion de los datos que se tienen, buscando los datos que son y/o deberian ser numéricos\n",
    "# y los categóricos.\n",
    "# Tambien se pueden ver de la cantidad de datos, si se tienen datos nulos o vacios.\n",
    "\n",
    "# Los datos numéricos son datos de tipo: float65, int64\n",
    "# Los datos categóricos son datos de tipo: object\n",
    "\n",
    "df_movies.info()"
   ]
  },
  {
   "cell_type": "markdown",
   "metadata": {},
   "source": [
    "**`Trabajando con los Datos Numéricos`**.\n",
    "\n",
    "- budget\n",
    "- revenue\n",
    "- runtime\n",
    "- vote_average\n",
    "- vote_count"
   ]
  },
  {
   "cell_type": "code",
   "execution_count": 10,
   "metadata": {},
   "outputs": [],
   "source": [
    "# Se cambian cualquier valor que no sea numerico de la columna 'budget' por NaN\n",
    "df_movies['budget'] = pd.to_numeric(df_movies['budget'], errors='coerce')\n",
    "\n",
    "# se cambian los valores NaN por 0 (cero)\n",
    "df_movies['budget'] = df_movies['budget'].fillna(0)\n",
    "\n",
    "# Se cambia el tipo de datos a float64\n",
    "df_movies['budget'] = df_movies['budget'].astype('float64')\n",
    "\n",
    "# se cambian los valores NaN por 0 (cero)\n",
    "df_movies['revenue'] = df_movies['revenue'].fillna(0)\n",
    "\n",
    "# se cambian los valores NaN por 0 (cero)\n",
    "df_movies['runtime'] = df_movies['runtime'].fillna(0)\n",
    "\n",
    "# se cambian los valores NaN por 0 (cero)\n",
    "df_movies['vote_average'] = df_movies['vote_average'].fillna(0)\n",
    "\n",
    "# se cambian los valores NaN por 0 (cero)\n",
    "df_movies['vote_count'] = df_movies['vote_count'].fillna(0)"
   ]
  },
  {
   "cell_type": "code",
   "execution_count": 11,
   "metadata": {},
   "outputs": [
    {
     "data": {
      "text/html": [
       "<div>\n",
       "<style scoped>\n",
       "    .dataframe tbody tr th:only-of-type {\n",
       "        vertical-align: middle;\n",
       "    }\n",
       "\n",
       "    .dataframe tbody tr th {\n",
       "        vertical-align: top;\n",
       "    }\n",
       "\n",
       "    .dataframe thead th {\n",
       "        text-align: right;\n",
       "    }\n",
       "</style>\n",
       "<table border=\"1\" class=\"dataframe\">\n",
       "  <thead>\n",
       "    <tr style=\"text-align: right;\">\n",
       "      <th></th>\n",
       "      <th>budget</th>\n",
       "      <th>revenue</th>\n",
       "      <th>runtime</th>\n",
       "      <th>vote_average</th>\n",
       "      <th>vote_count</th>\n",
       "    </tr>\n",
       "  </thead>\n",
       "  <tbody>\n",
       "    <tr>\n",
       "      <th>count</th>\n",
       "      <td>4.546600e+04</td>\n",
       "      <td>4.546600e+04</td>\n",
       "      <td>45466.000000</td>\n",
       "      <td>45466.000000</td>\n",
       "      <td>45466.000000</td>\n",
       "    </tr>\n",
       "    <tr>\n",
       "      <th>mean</th>\n",
       "      <td>4.224300e+06</td>\n",
       "      <td>1.120787e+07</td>\n",
       "      <td>93.583711</td>\n",
       "      <td>5.617466</td>\n",
       "      <td>109.882836</td>\n",
       "    </tr>\n",
       "    <tr>\n",
       "      <th>std</th>\n",
       "      <td>1.742359e+07</td>\n",
       "      <td>6.432813e+07</td>\n",
       "      <td>38.956167</td>\n",
       "      <td>1.925171</td>\n",
       "      <td>491.279576</td>\n",
       "    </tr>\n",
       "    <tr>\n",
       "      <th>min</th>\n",
       "      <td>0.000000e+00</td>\n",
       "      <td>0.000000e+00</td>\n",
       "      <td>0.000000</td>\n",
       "      <td>0.000000</td>\n",
       "      <td>0.000000</td>\n",
       "    </tr>\n",
       "    <tr>\n",
       "      <th>25%</th>\n",
       "      <td>0.000000e+00</td>\n",
       "      <td>0.000000e+00</td>\n",
       "      <td>85.000000</td>\n",
       "      <td>5.000000</td>\n",
       "      <td>3.000000</td>\n",
       "    </tr>\n",
       "    <tr>\n",
       "      <th>50%</th>\n",
       "      <td>0.000000e+00</td>\n",
       "      <td>0.000000e+00</td>\n",
       "      <td>95.000000</td>\n",
       "      <td>6.000000</td>\n",
       "      <td>10.000000</td>\n",
       "    </tr>\n",
       "    <tr>\n",
       "      <th>75%</th>\n",
       "      <td>0.000000e+00</td>\n",
       "      <td>0.000000e+00</td>\n",
       "      <td>107.000000</td>\n",
       "      <td>6.800000</td>\n",
       "      <td>34.000000</td>\n",
       "    </tr>\n",
       "    <tr>\n",
       "      <th>max</th>\n",
       "      <td>3.800000e+08</td>\n",
       "      <td>2.787965e+09</td>\n",
       "      <td>1256.000000</td>\n",
       "      <td>10.000000</td>\n",
       "      <td>14075.000000</td>\n",
       "    </tr>\n",
       "  </tbody>\n",
       "</table>\n",
       "</div>"
      ],
      "text/plain": [
       "             budget       revenue       runtime  vote_average    vote_count\n",
       "count  4.546600e+04  4.546600e+04  45466.000000  45466.000000  45466.000000\n",
       "mean   4.224300e+06  1.120787e+07     93.583711      5.617466    109.882836\n",
       "std    1.742359e+07  6.432813e+07     38.956167      1.925171    491.279576\n",
       "min    0.000000e+00  0.000000e+00      0.000000      0.000000      0.000000\n",
       "25%    0.000000e+00  0.000000e+00     85.000000      5.000000      3.000000\n",
       "50%    0.000000e+00  0.000000e+00     95.000000      6.000000     10.000000\n",
       "75%    0.000000e+00  0.000000e+00    107.000000      6.800000     34.000000\n",
       "max    3.800000e+08  2.787965e+09   1256.000000     10.000000  14075.000000"
      ]
     },
     "execution_count": 11,
     "metadata": {},
     "output_type": "execute_result"
    }
   ],
   "source": [
    "# Se muestra la descripcion de los datos numericos\n",
    "df_movies.describe()"
   ]
  },
  {
   "cell_type": "markdown",
   "metadata": {},
   "source": [
    "**`Trabajando con los Datos Categóricos`**."
   ]
  },
  {
   "cell_type": "code",
   "execution_count": 12,
   "metadata": {},
   "outputs": [
    {
     "data": {
      "text/html": [
       "<div>\n",
       "<style scoped>\n",
       "    .dataframe tbody tr th:only-of-type {\n",
       "        vertical-align: middle;\n",
       "    }\n",
       "\n",
       "    .dataframe tbody tr th {\n",
       "        vertical-align: top;\n",
       "    }\n",
       "\n",
       "    .dataframe thead th {\n",
       "        text-align: right;\n",
       "    }\n",
       "</style>\n",
       "<table border=\"1\" class=\"dataframe\">\n",
       "  <thead>\n",
       "    <tr style=\"text-align: right;\">\n",
       "      <th></th>\n",
       "      <th>0</th>\n",
       "      <th>1</th>\n",
       "    </tr>\n",
       "  </thead>\n",
       "  <tbody>\n",
       "    <tr>\n",
       "      <th>adult</th>\n",
       "      <td>False</td>\n",
       "      <td>False</td>\n",
       "    </tr>\n",
       "    <tr>\n",
       "      <th>belongs_to_collection</th>\n",
       "      <td>{'id': 10194, 'name': 'Toy Story Collection', ...</td>\n",
       "      <td>NaN</td>\n",
       "    </tr>\n",
       "    <tr>\n",
       "      <th>genres</th>\n",
       "      <td>[{'id': 16, 'name': 'Animation'}, {'id': 35, '...</td>\n",
       "      <td>[{'id': 12, 'name': 'Adventure'}, {'id': 14, '...</td>\n",
       "    </tr>\n",
       "    <tr>\n",
       "      <th>homepage</th>\n",
       "      <td>http://toystory.disney.com/toy-story</td>\n",
       "      <td>NaN</td>\n",
       "    </tr>\n",
       "    <tr>\n",
       "      <th>id</th>\n",
       "      <td>862</td>\n",
       "      <td>8844</td>\n",
       "    </tr>\n",
       "    <tr>\n",
       "      <th>imdb_id</th>\n",
       "      <td>tt0114709</td>\n",
       "      <td>tt0113497</td>\n",
       "    </tr>\n",
       "    <tr>\n",
       "      <th>original_language</th>\n",
       "      <td>en</td>\n",
       "      <td>en</td>\n",
       "    </tr>\n",
       "    <tr>\n",
       "      <th>original_title</th>\n",
       "      <td>Toy Story</td>\n",
       "      <td>Jumanji</td>\n",
       "    </tr>\n",
       "    <tr>\n",
       "      <th>overview</th>\n",
       "      <td>Led by Woody, Andy's toys live happily in his ...</td>\n",
       "      <td>When siblings Judy and Peter discover an encha...</td>\n",
       "    </tr>\n",
       "    <tr>\n",
       "      <th>popularity</th>\n",
       "      <td>21.9469</td>\n",
       "      <td>17.0155</td>\n",
       "    </tr>\n",
       "    <tr>\n",
       "      <th>poster_path</th>\n",
       "      <td>/rhIRbceoE9lR4veEXuwCC2wARtG.jpg</td>\n",
       "      <td>/vzmL6fP7aPKNKPRTFnZmiUfciyV.jpg</td>\n",
       "    </tr>\n",
       "    <tr>\n",
       "      <th>production_companies</th>\n",
       "      <td>[{'name': 'Pixar Animation Studios', 'id': 3}]</td>\n",
       "      <td>[{'name': 'TriStar Pictures', 'id': 559}, {'na...</td>\n",
       "    </tr>\n",
       "    <tr>\n",
       "      <th>production_countries</th>\n",
       "      <td>[{'iso_3166_1': 'US', 'name': 'United States o...</td>\n",
       "      <td>[{'iso_3166_1': 'US', 'name': 'United States o...</td>\n",
       "    </tr>\n",
       "    <tr>\n",
       "      <th>release_date</th>\n",
       "      <td>1995-10-30</td>\n",
       "      <td>1995-12-15</td>\n",
       "    </tr>\n",
       "    <tr>\n",
       "      <th>spoken_languages</th>\n",
       "      <td>[{'iso_639_1': 'en', 'name': 'English'}]</td>\n",
       "      <td>[{'iso_639_1': 'en', 'name': 'English'}, {'iso...</td>\n",
       "    </tr>\n",
       "    <tr>\n",
       "      <th>status</th>\n",
       "      <td>Released</td>\n",
       "      <td>Released</td>\n",
       "    </tr>\n",
       "    <tr>\n",
       "      <th>tagline</th>\n",
       "      <td>NaN</td>\n",
       "      <td>Roll the dice and unleash the excitement!</td>\n",
       "    </tr>\n",
       "    <tr>\n",
       "      <th>title</th>\n",
       "      <td>Toy Story</td>\n",
       "      <td>Jumanji</td>\n",
       "    </tr>\n",
       "    <tr>\n",
       "      <th>video</th>\n",
       "      <td>False</td>\n",
       "      <td>False</td>\n",
       "    </tr>\n",
       "  </tbody>\n",
       "</table>\n",
       "</div>"
      ],
      "text/plain": [
       "                                                                       0  \\\n",
       "adult                                                              False   \n",
       "belongs_to_collection  {'id': 10194, 'name': 'Toy Story Collection', ...   \n",
       "genres                 [{'id': 16, 'name': 'Animation'}, {'id': 35, '...   \n",
       "homepage                            http://toystory.disney.com/toy-story   \n",
       "id                                                                   862   \n",
       "imdb_id                                                        tt0114709   \n",
       "original_language                                                     en   \n",
       "original_title                                                 Toy Story   \n",
       "overview               Led by Woody, Andy's toys live happily in his ...   \n",
       "popularity                                                       21.9469   \n",
       "poster_path                             /rhIRbceoE9lR4veEXuwCC2wARtG.jpg   \n",
       "production_companies      [{'name': 'Pixar Animation Studios', 'id': 3}]   \n",
       "production_countries   [{'iso_3166_1': 'US', 'name': 'United States o...   \n",
       "release_date                                                  1995-10-30   \n",
       "spoken_languages                [{'iso_639_1': 'en', 'name': 'English'}]   \n",
       "status                                                          Released   \n",
       "tagline                                                              NaN   \n",
       "title                                                          Toy Story   \n",
       "video                                                              False   \n",
       "\n",
       "                                                                       1  \n",
       "adult                                                              False  \n",
       "belongs_to_collection                                                NaN  \n",
       "genres                 [{'id': 12, 'name': 'Adventure'}, {'id': 14, '...  \n",
       "homepage                                                             NaN  \n",
       "id                                                                  8844  \n",
       "imdb_id                                                        tt0113497  \n",
       "original_language                                                     en  \n",
       "original_title                                                   Jumanji  \n",
       "overview               When siblings Judy and Peter discover an encha...  \n",
       "popularity                                                       17.0155  \n",
       "poster_path                             /vzmL6fP7aPKNKPRTFnZmiUfciyV.jpg  \n",
       "production_companies   [{'name': 'TriStar Pictures', 'id': 559}, {'na...  \n",
       "production_countries   [{'iso_3166_1': 'US', 'name': 'United States o...  \n",
       "release_date                                                  1995-12-15  \n",
       "spoken_languages       [{'iso_639_1': 'en', 'name': 'English'}, {'iso...  \n",
       "status                                                          Released  \n",
       "tagline                        Roll the dice and unleash the excitement!  \n",
       "title                                                            Jumanji  \n",
       "video                                                              False  "
      ]
     },
     "execution_count": 12,
     "metadata": {},
     "output_type": "execute_result"
    }
   ],
   "source": [
    "# Se separan en 2 dataframe nuevos, las variables categoricas.\n",
    "\n",
    "df_categoricas = df_movies.select_dtypes(include=['object', 'category'])\n",
    "df_numericas = df_movies.select_dtypes(include='number')\n",
    "\n",
    "df_categoricas.head(2).T"
   ]
  },
  {
   "cell_type": "code",
   "execution_count": 13,
   "metadata": {},
   "outputs": [
    {
     "name": "stdout",
     "output_type": "stream",
     "text": [
      "Columna adult: 5 subniveles\n",
      "Columna belongs_to_collection: 1699 subniveles\n",
      "Columna genres: 4069 subniveles\n",
      "Columna homepage: 7674 subniveles\n",
      "Columna id: 45436 subniveles\n",
      "Columna imdb_id: 45418 subniveles\n",
      "Columna original_language: 93 subniveles\n",
      "Columna original_title: 43373 subniveles\n",
      "Columna overview: 44308 subniveles\n",
      "Columna popularity: 44177 subniveles\n",
      "Columna poster_path: 45025 subniveles\n",
      "Columna production_companies: 22709 subniveles\n",
      "Columna production_countries: 2394 subniveles\n",
      "Columna release_date: 17337 subniveles\n",
      "Columna spoken_languages: 1932 subniveles\n",
      "Columna status: 7 subniveles\n",
      "Columna tagline: 20284 subniveles\n",
      "Columna title: 42278 subniveles\n",
      "Columna video: 3 subniveles\n"
     ]
    }
   ],
   "source": [
    "# Conteo de los niveles en las diferentes columnas categoricas para las que se tienen idea, por ejemplo: si es sexo deberia tener 2 categorias hombre o mujer (por ahora).\n",
    "# si es estado civil puede haber soltero, casado, divorciado, otros, etc.\n",
    "# Con esto podemos determinar si alguna tiene una sola cetegoria, entonces, esta columna no aportara nada.\n",
    "\n",
    "# Si se desea en algunos datos categoricos que si tenemos idea de cuantas categorias deberia traer.\n",
    "# columnas = ['adult', 'genres', 'original_language', 'spoken_languages', 'status', 'video']\n",
    "\n",
    "for col in df_categoricas:\n",
    "    print(f'Columna {col}: {len(df_categoricas[col].unique())} subniveles')"
   ]
  },
  {
   "cell_type": "code",
   "execution_count": 14,
   "metadata": {},
   "outputs": [
    {
     "data": {
      "image/png": "[encoded data removed]",
      "text/plain": [
       "<Figure size 576x576 with 2 Axes>"
      ]
     },
     "metadata": {
      "needs_background": "light"
     },
     "output_type": "display_data"
    }
   ],
   "source": [
    "# Graficando algunos campos y sus categorias\n",
    "\n",
    "# columnas = ['adult', 'status', 'video']\n",
    "columnas = ['status', 'video']\n",
    "\n",
    "fig, ax = plt.subplots(nrows=2, ncols=1, figsize=(8,8))\n",
    "fig.subplots_adjust(hspace=0.6)\n",
    "\n",
    "for i, col in enumerate(columnas):\n",
    "    sns.countplot(x=col, data=df_categoricas, ax=ax[i])\n",
    "    ax[i].set_title(col)\n",
    "    ax[i].set_xticklabels(ax[i].get_xticklabels(), rotation=30)"
   ]
  },
  {
   "cell_type": "code",
   "execution_count": 15,
   "metadata": {},
   "outputs": [],
   "source": [
    "# Trabajando con diccionarios\n",
    "# El valor a extraer es 'name'\n",
    "\n",
    "def Valor_name_desde_dicc(value):\n",
    "    try:                                        # Captura el error que se puede producir si se pasa un tipo de datos diferente a un diccionario\n",
    "        diccionario = ast.literal_eval(value)   # Se guarda el valor al ejecutar la libreria, nos permitira verificar si es un diccionario\n",
    "        if isinstance(diccionario, dict):       # Se evalua si es diccionario\n",
    "            return diccionario.get('name', '')  # Regresa el valor de la clave 'name'\n",
    "    except (ValueError, SyntaxError):           # Si captura algun error\n",
    "        pass                                    # No se muestra error\n",
    "    return ''                                   # Si no es posible evaluarlo como un diccionario, devolvemos una cadena vacía"
   ]
  },
  {
   "cell_type": "code",
   "execution_count": 16,
   "metadata": {},
   "outputs": [],
   "source": [
    "# Trabajando con diccionario de listas\n",
    "# El valor a extraer es 'name'\n",
    "\n",
    "def Valor_name_desde_list(value):\n",
    "    try:                                        # Captura el error que se puede producir si se pasa un tipo de datos diferente a un diccionario\n",
    "        lista_dicc = ast.literal_eval(value)    # Se guarda el valor al ejecutar la libreria, nos permitira verificar si es una lista de diccionario\n",
    "        if isinstance(lista_dicc, list):        # Se evalua si es lista\n",
    "            name = [dic.get('name','') for dic in lista_dicc if isinstance(dic, dict)]  # Regresa los valores de la clave 'name', pueden ser varios ya que es una lista de diccionarios\n",
    "            return ','.join(name)               # Encadena cada uno de los valores 'name'\n",
    "    except (ValueError, SyntaxError):           # Si captura algun error\n",
    "        pass                                    # No se muestra error\n",
    "    return ''                                   # Si no es posible evaluarlo como un diccionario, devolvemos una cadena vacía"
   ]
  },
  {
   "cell_type": "code",
   "execution_count": 17,
   "metadata": {},
   "outputs": [],
   "source": [
    "# Trabajando con diccionario de listas\n",
    "# El valor a extraer es 'character'\n",
    "\n",
    "def Valor_character_desde_list(value):\n",
    "    try:                                        # Captura el error que se puede producir si se pasa un tipo de datos diferente a un diccionario\n",
    "        lista_dicc = ast.literal_eval(value)    # Se guarda el valor al ejecutar la libreria, nos permitira verificar si es una lista de diccionario\n",
    "        if isinstance(lista_dicc, list):        # Se evalua si es lista\n",
    "            character = [dic.get('character','') for dic in lista_dicc if isinstance(dic, dict)]  # Regresa los valores de la clave 'name', pueden ser varios ya que es una lista de diccionarios\n",
    "            return ','.join(character)               # Encadena cada uno de los valores 'name'\n",
    "    except (ValueError, SyntaxError):           # Si captura algun error\n",
    "        pass                                    # No se muestra error\n",
    "    return ''                                   # Si no es posible evaluarlo como un diccionario, devolvemos una cadena vacía"
   ]
  },
  {
   "cell_type": "code",
   "execution_count": 18,
   "metadata": {},
   "outputs": [],
   "source": [
    "# Trabajando con diccionario de listas\n",
    "# El valor a extraer es 'department'\n",
    "\n",
    "def Valor_department_desde_list(value):\n",
    "    try:                                        # Captura el error que se puede producir si se pasa un tipo de datos diferente a un diccionario\n",
    "        lista_dicc = ast.literal_eval(value)    # Se guarda el valor al ejecutar la libreria, nos permitira verificar si es una lista de diccionario\n",
    "        if isinstance(lista_dicc, list):        # Se evalua si es lista\n",
    "            department = [dic.get('department','') for dic in lista_dicc if isinstance(dic, dict)]  # Regresa los valores de la clave 'name', pueden ser varios ya que es una lista de diccionarios\n",
    "            return ','.join(department)               # Encadena cada uno de los valores 'name'\n",
    "    except (ValueError, SyntaxError):           # Si captura algun error\n",
    "        pass                                    # No se muestra error\n",
    "    return ''                                   # Si no es posible evaluarlo como un diccionario, devolvemos una cadena vacía"
   ]
  },
  {
   "cell_type": "code",
   "execution_count": 19,
   "metadata": {},
   "outputs": [],
   "source": [
    "# Trabajando con diccionario de listas\n",
    "# El valor a extraer es 'job'\n",
    "\n",
    "def Valor_job_desde_list(value):\n",
    "    try:                                        # Captura el error que se puede producir si se pasa un tipo de datos diferente a un diccionario\n",
    "        lista_dicc = ast.literal_eval(value)    # Se guarda el valor al ejecutar la libreria, nos permitira verificar si es una lista de diccionario\n",
    "        if isinstance(lista_dicc, list):        # Se evalua si es lista\n",
    "            job = [dic.get('job','') for dic in lista_dicc if isinstance(dic, dict)]  # Regresa los valores de la clave 'name', pueden ser varios ya que es una lista de diccionarios\n",
    "            return ','.join(job)               # Encadena cada uno de los valores 'name'\n",
    "    except (ValueError, SyntaxError):           # Si captura algun error\n",
    "        pass                                    # No se muestra error\n",
    "    return ''                                   # Si no es posible evaluarlo como un diccionario, devolvemos una cadena vacía"
   ]
  },
  {
   "cell_type": "code",
   "execution_count": 20,
   "metadata": {},
   "outputs": [],
   "source": [
    "# Realizando una copia del dataframe inicial para no modificar el dataframe original\n",
    "\n",
    "df_movies_desanidado = df_movies.copy()"
   ]
  },
  {
   "cell_type": "code",
   "execution_count": 21,
   "metadata": {},
   "outputs": [],
   "source": [
    "# Aplicar la función para extraer el valor que trae 'name' y se asigna a la misma columna en el dataframe.\n",
    "df_movies_desanidado['d_belongs_to_collection'] = df_movies_desanidado['belongs_to_collection'].apply(Valor_name_desde_dicc)\n",
    "\n",
    "# Mostrar el DataFrame resultante\n",
    "df_movies_desanidado.drop(columns=['belongs_to_collection'], inplace=True)\n",
    "df_movies_desanidado = df_movies_desanidado.rename(index=str, columns= {\"d_belongs_to_collection\": \"belongs_to_collection\"})\n",
    "\n",
    "# Se le quita la palabra \" Collection\" que los valores 'belongs_to_collection' tienen en su valor\n",
    "df_movies_desanidado['belongs_to_collection'] = df_movies_desanidado['belongs_to_collection'].str.replace(\" Collection\", \"\", regex=False)\n",
    "\n",
    "# Se muestra informacion del dataframe\n",
    "# df_movies_desanidado['belongs_to_collection'].head().T"
   ]
  },
  {
   "cell_type": "code",
   "execution_count": 22,
   "metadata": {},
   "outputs": [],
   "source": [
    "# Aplicar la función para extraer el valor que trae 'name' y se asigna a una nueva columna en el dataframe.\n",
    "df_movies_desanidado['d_genres'] = df_movies_desanidado['genres'].apply(Valor_name_desde_list)\n",
    "\n",
    "# Mostrar el DataFrame resultante\n",
    "df_movies_desanidado.drop(columns=['genres'], inplace=True)\n",
    "df_movies_desanidado = df_movies_desanidado.rename(index=str, columns= {\"d_genres\": \"genres\"})\n",
    "# df_movies_desanidado['genres'].head().T"
   ]
  },
  {
   "cell_type": "code",
   "execution_count": 23,
   "metadata": {},
   "outputs": [],
   "source": [
    "# Aplicar la función para extraer el valor que trae 'name' y se asigna a una nueva columna en el dataframe.\n",
    "df_movies_desanidado['d_production_companies'] = df_movies_desanidado['production_companies'].apply(Valor_name_desde_list)\n",
    "\n",
    "# Mostrar el DataFrame resultante\n",
    "df_movies_desanidado.drop(columns=['production_companies'], inplace=True)\n",
    "df_movies_desanidado = df_movies_desanidado.rename(index=str, columns= {\"d_production_companies\": \"production_companies\"})\n",
    "# df_movies_desanidado['production_companies'].head().T"
   ]
  },
  {
   "cell_type": "code",
   "execution_count": 24,
   "metadata": {},
   "outputs": [],
   "source": [
    "# Aplicar la función para extraer el valor que trae 'name' y se asigna a una nueva columna en el dataframe.\n",
    "df_movies_desanidado['d_production_countries'] = df_movies_desanidado['production_countries'].apply(Valor_name_desde_list)\n",
    "\n",
    "# Mostrar el DataFrame resultante\n",
    "df_movies_desanidado.drop(columns=['production_countries'], inplace=True)\n",
    "df_movies_desanidado = df_movies_desanidado.rename(index=str, columns= {\"d_production_countries\": \"production_countries\"})\n",
    "# df_movies_desanidado['production_countries'].head().T"
   ]
  },
  {
   "cell_type": "code",
   "execution_count": 25,
   "metadata": {},
   "outputs": [],
   "source": [
    "# Aplicar la función para extraer el valor que trae 'name' y se asigna a una nueva columna en el dataframe.\n",
    "df_movies_desanidado['d_spoken_languages'] = df_movies_desanidado['spoken_languages'].apply(Valor_name_desde_list)\n",
    "\n",
    "# Mostrar el DataFrame resultante\n",
    "df_movies_desanidado.drop(columns=['spoken_languages'], inplace=True)\n",
    "df_movies_desanidado = df_movies_desanidado.rename(index=str, columns= {\"d_spoken_languages\": \"spoken_languages\"})\n",
    "# df_movies_desanidado['spoken_languages'].head().T"
   ]
  },
  {
   "cell_type": "markdown",
   "metadata": {},
   "source": [
    "**`Trabajando con los datos de tipo fechas`**."
   ]
  },
  {
   "cell_type": "code",
   "execution_count": 26,
   "metadata": {},
   "outputs": [
    {
     "name": "stdout",
     "output_type": "stream",
     "text": [
      "Cantidad de valores nulos antes de eliminar:  87\n",
      "Cantidad de valores nulos despues de eliminar:  0\n"
     ]
    }
   ],
   "source": [
    "# valores nulos del campo 'release_date' deben eliminarse\n",
    "# Eliminando filas con datos faltantes en los campos 'release_date'\n",
    "\n",
    "# Se muestra la cantidad de valores nulos en el campo 'release_date'\n",
    "print('Cantidad de valores nulos antes de eliminar: ', df_movies_desanidado['release_date'].isnull().sum())\n",
    "\n",
    "# Se quitan las filas que tienen valores nulos en el campo 'release_date'\n",
    "df_movies_desanidado.dropna(subset=['release_date'], inplace=True)\n",
    "\n",
    "# Se muestra la cantidad de valores nulos en el campo 'release_date'\n",
    "print('Cantidad de valores nulos despues de eliminar: ', df_movies_desanidado['release_date'].isnull().sum())"
   ]
  },
  {
   "cell_type": "code",
   "execution_count": 27,
   "metadata": {},
   "outputs": [
    {
     "name": "stdout",
     "output_type": "stream",
     "text": [
      "Cantidad de valores nulos despues de formatear la fecha:  3\n",
      "Cantidad de valores nulos despues de eliminar:  0\n"
     ]
    }
   ],
   "source": [
    "# Se convierte la columna de tipo fecha 'release_date' en un formato de fecha 'AAAA-mm-dd'\n",
    "\n",
    "df_movies_desanidado['release_date'] = pd.to_datetime(df_movies_desanidado['release_date'], errors='coerce').dt.strftime('%Y-%m-%d')\n",
    "\n",
    "# Se muestra la cantidad de valores nulos en el campo 'release_date' antes de formatear la fecha\n",
    "print('Cantidad de valores nulos despues de formatear la fecha: ',df_movies_desanidado['release_date'].isnull().sum())\n",
    "\n",
    "# Se quitan las filas que tienen valores nulos en el campo 'release_date' despues de formatear la fecha\n",
    "df_movies_desanidado.dropna(subset=['release_date'], inplace=True)\n",
    "\n",
    "# Se muestra la cantidad de valores nulos en el campo 'release_date' despues de formatear la fecha\n",
    "print('Cantidad de valores nulos despues de eliminar: ', df_movies_desanidado['release_date'].isnull().sum())"
   ]
  },
  {
   "cell_type": "code",
   "execution_count": 28,
   "metadata": {},
   "outputs": [
    {
     "data": {
      "text/plain": [
       "0    1995\n",
       "1    1995\n",
       "2    1995\n",
       "3    1995\n",
       "4    1995\n",
       "Name: release_year, dtype: int64"
      ]
     },
     "execution_count": 28,
     "metadata": {},
     "output_type": "execute_result"
    }
   ],
   "source": [
    "# Se extrae el año del campo fecha 'release_date' creando un nuevo campo 'release_year' con el dato de año\n",
    "df_movies_desanidado['release_year'] = pd.to_datetime(df_movies_desanidado['release_date'], errors='coerce').dt.year\n",
    "\n",
    "# Se cambia el tipo de dato float64 del campo nuevo 'release_year' a un tipo de dato 'int64' para que no venga con decimal\n",
    "df_movies_desanidado['release_year'] = df_movies_desanidado['release_year'].astype('int64')\n",
    "df_movies_desanidado['release_year'].head(5)"
   ]
  },
  {
   "cell_type": "markdown",
   "metadata": {},
   "source": [
    "**`Trabajando con calculo de inversion`**."
   ]
  },
  {
   "cell_type": "code",
   "execution_count": 29,
   "metadata": {},
   "outputs": [
    {
     "data": {
      "text/html": [
       "<div>\n",
       "<style scoped>\n",
       "    .dataframe tbody tr th:only-of-type {\n",
       "        vertical-align: middle;\n",
       "    }\n",
       "\n",
       "    .dataframe tbody tr th {\n",
       "        vertical-align: top;\n",
       "    }\n",
       "\n",
       "    .dataframe thead th {\n",
       "        text-align: right;\n",
       "    }\n",
       "</style>\n",
       "<table border=\"1\" class=\"dataframe\">\n",
       "  <thead>\n",
       "    <tr style=\"text-align: right;\">\n",
       "      <th></th>\n",
       "      <th>revenue</th>\n",
       "      <th>budget</th>\n",
       "      <th>return</th>\n",
       "    </tr>\n",
       "  </thead>\n",
       "  <tbody>\n",
       "    <tr>\n",
       "      <th>0</th>\n",
       "      <td>373554033.0</td>\n",
       "      <td>30000000.0</td>\n",
       "      <td>12.451801</td>\n",
       "    </tr>\n",
       "    <tr>\n",
       "      <th>1</th>\n",
       "      <td>262797249.0</td>\n",
       "      <td>65000000.0</td>\n",
       "      <td>4.043035</td>\n",
       "    </tr>\n",
       "    <tr>\n",
       "      <th>2</th>\n",
       "      <td>0.0</td>\n",
       "      <td>0.0</td>\n",
       "      <td>0.000000</td>\n",
       "    </tr>\n",
       "    <tr>\n",
       "      <th>3</th>\n",
       "      <td>81452156.0</td>\n",
       "      <td>16000000.0</td>\n",
       "      <td>5.090760</td>\n",
       "    </tr>\n",
       "    <tr>\n",
       "      <th>4</th>\n",
       "      <td>76578911.0</td>\n",
       "      <td>0.0</td>\n",
       "      <td>0.000000</td>\n",
       "    </tr>\n",
       "  </tbody>\n",
       "</table>\n",
       "</div>"
      ],
      "text/plain": [
       "       revenue      budget     return\n",
       "0  373554033.0  30000000.0  12.451801\n",
       "1  262797249.0  65000000.0   4.043035\n",
       "2          0.0         0.0   0.000000\n",
       "3   81452156.0  16000000.0   5.090760\n",
       "4   76578911.0         0.0   0.000000"
      ]
     },
     "execution_count": 29,
     "metadata": {},
     "output_type": "execute_result"
    }
   ],
   "source": [
    "# Crear la columna con el retorno de inversión, llamada return con los campos revenue y budget, \n",
    "# dividiendo estas dos últimas revenue / budget, cuando no hay datos disponibles para calcularlo, deberá tomar el valor 0\n",
    "# Es importante saber si el divisor 'revenue' tiene valores 0, ya que no existe la division por 0\n",
    "# Se crea una fumcion lambda, donde retorna 0 si budget es 0, de lo contrario, retorna la division de revenue / budget y crea la columna 'return'\n",
    "\n",
    "df_movies_desanidado['return'] = df_movies_desanidado.apply(lambda x_return: 0 if x_return['budget'] == 0 else (x_return['revenue'] / x_return['budget']), axis=1)\n",
    "\n",
    "# Mostrando las columnas para la division y la columna resultado\n",
    "df_movies_desanidado[['revenue','budget','return']].head()"
   ]
  },
  {
   "cell_type": "markdown",
   "metadata": {},
   "source": [
    "**`Eliminando columnas`**."
   ]
  },
  {
   "cell_type": "code",
   "execution_count": 30,
   "metadata": {},
   "outputs": [],
   "source": [
    "# Eliminando las columnas: video, imdb_id, adult, original_title, poster_path y homepage\n",
    "\n",
    "df_movies_desanidado.drop(columns=['video', 'imdb_id','adult', 'original_title', 'poster_path', 'homepage'], inplace=True)"
   ]
  },
  {
   "cell_type": "code",
   "execution_count": 31,
   "metadata": {},
   "outputs": [],
   "source": [
    "# Haciendo una copia del dataframe trabajado, reordenando las columnas.\n",
    "# Tratamiento y Recolección de los datos (Data Engineer stuff) ETL\n",
    "\n",
    "df_movies_ETL = pd.DataFrame(df_movies_desanidado, \n",
    "                             columns=['id', 'title', 'genres', 'overview', 'budget', \n",
    "                                      'spoken_languages', 'original_language', 'belongs_to_collection', 'production_companies', 'production_countries', \n",
    "                                      'status', 'release_date', 'release_year', 'runtime', 'popularity', \n",
    "                                      'vote_count', 'vote_average', 'revenue', 'return', 'tagline'])"
   ]
  },
  {
   "cell_type": "code",
   "execution_count": 32,
   "metadata": {},
   "outputs": [
    {
     "name": "stdout",
     "output_type": "stream",
     "text": [
      "Total de datos del campo tagline:  45376\n",
      "Cantidad de valores nulos del campo tagline:  24978\n",
      "Porcentaje de datos nulos:  55.05 %\n"
     ]
    }
   ],
   "source": [
    "# La columna 'tagline' es elegible a ser borrada\n",
    "\n",
    "print('Total de datos del campo tagline: ', len(df_movies_ETL['tagline']))\n",
    "print('Cantidad de valores nulos del campo tagline: ', df_movies_ETL['tagline'].isnull().sum())\n",
    "print('Porcentaje de datos nulos: ', round(df_movies_ETL['tagline'].isnull().sum() / (len(df_movies_ETL['tagline'])) * 100, 2),'%')"
   ]
  },
  {
   "cell_type": "code",
   "execution_count": 33,
   "metadata": {},
   "outputs": [],
   "source": [
    "# Se hace un respaldo en disco de una archivo csv\n",
    "\n",
    "ruta_archivo = \"./Datasets/LARG_movies_dataset_ETL.csv\"\n",
    "df_movies_ETL.to_csv(ruta_archivo, sep=',')"
   ]
  },
  {
   "cell_type": "markdown",
   "metadata": {},
   "source": [
    "1.- **`Se importan los datos desde el dataset: credits.csv`**."
   ]
  },
  {
   "cell_type": "code",
   "execution_count": 34,
   "metadata": {},
   "outputs": [],
   "source": [
    "ruta_archivo_credits = \"./Datasets/credits.csv\"\n",
    "df_credits = pd.read_csv(ruta_archivo_credits)"
   ]
  },
  {
   "cell_type": "markdown",
   "metadata": {},
   "source": [
    "**`Trabajando con los Datos Numéricos`**."
   ]
  },
  {
   "cell_type": "code",
   "execution_count": 35,
   "metadata": {},
   "outputs": [],
   "source": [
    "# se cambian los valores NaN por 0 (cero)\n",
    "\n",
    "df_credits['id'] = df_credits['id'].fillna(0)"
   ]
  },
  {
   "cell_type": "markdown",
   "metadata": {},
   "source": [
    "**`Trabajando con los Datos Categóricos`**."
   ]
  },
  {
   "cell_type": "code",
   "execution_count": 36,
   "metadata": {},
   "outputs": [],
   "source": [
    "# Realizando una copia del dataframe inicial para no modificar el dataframe original\n",
    "\n",
    "df_credits_desanidado = df_credits.copy()"
   ]
  },
  {
   "cell_type": "code",
   "execution_count": 37,
   "metadata": {},
   "outputs": [],
   "source": [
    "# Aplicar la función para extraer el valor que trae 'name' y se asigna a la misma columna en el dataframe.\n",
    "df_credits_desanidado['d_character'] = df_credits_desanidado['cast'].apply(Valor_character_desde_list)\n",
    "df_credits_desanidado['d_name'] = df_credits_desanidado['cast'].apply(Valor_name_desde_list)\n",
    "\n",
    "# df_credits_desanidado.head()\n",
    "# Mostrar el DataFrame resultante\n",
    "df_credits_desanidado.drop(columns=['cast'], inplace=True)\n",
    "df_credits_desanidado = df_credits_desanidado.rename(index=str, columns= {\"d_character\": \"character\"})\n",
    "df_credits_desanidado = df_credits_desanidado.rename(index=str, columns= {\"d_name\": \"cast\"})\n",
    "# df_credits_desanidado.head().T"
   ]
  },
  {
   "cell_type": "code",
   "execution_count": 38,
   "metadata": {},
   "outputs": [],
   "source": [
    "# Aplicar la función para extraer el valor que trae 'name' y se asigna a la misma columna en el dataframe.\n",
    "df_credits_desanidado['d_department'] = df_credits_desanidado['crew'].apply(Valor_department_desde_list)\n",
    "df_credits_desanidado['d_job'] = df_credits_desanidado['crew'].apply(Valor_job_desde_list)\n",
    "df_credits_desanidado['d_name'] = df_credits_desanidado['crew'].apply(Valor_name_desde_list)\n",
    "\n",
    "# df_credits_desanidado.head()\n",
    "# Mostrar el DataFrame resultante\n",
    "df_credits_desanidado.drop(columns=['crew'], inplace=True)\n",
    "df_credits_desanidado = df_credits_desanidado.rename(index=str, columns= {\"d_department\": \"department\"})\n",
    "df_credits_desanidado = df_credits_desanidado.rename(index=str, columns= {\"d_job\": \"job\"})\n",
    "df_credits_desanidado = df_credits_desanidado.rename(index=str, columns= {\"d_name\": \"crew\"})\n",
    "# df_credits_desanidado.head().T"
   ]
  },
  {
   "cell_type": "code",
   "execution_count": 39,
   "metadata": {},
   "outputs": [],
   "source": [
    "# Se hace un respaldo en disco de un archivo csv\n",
    "ruta_archivo_credits_csv = \"./Datasets/LARG_creditsdataset_reducido.csv\"\n",
    "df_credits_desanidado.to_csv(ruta_archivo_credits_csv, sep=',')"
   ]
  },
  {
   "cell_type": "markdown",
   "metadata": {},
   "source": [
    "- - -\n",
    "\n",
    "# <h2 align=center> **EDA - Exploratory Data Analysis** </h1>"
   ]
  },
  {
   "cell_type": "code",
   "execution_count": 4,
   "metadata": {},
   "outputs": [],
   "source": [
    "# Se importa el archivo 'LARG_moviesdataset_reducido.csv' con los datos de las peliculas,\n",
    "# este archivo ya contiene la data limpiada.\n",
    "ruta_archivo_movies = \"./Datasets/LARG_moviesdataset_reducido.csv\"\n",
    "df_movies_credits_merge_by_id = pd.read_csv(ruta_archivo_movies)"
   ]
  },
  {
   "cell_type": "code",
   "execution_count": 41,
   "metadata": {},
   "outputs": [
    {
     "name": "stdout",
     "output_type": "stream",
     "text": [
      "<class 'pandas.core.frame.DataFrame'>\n",
      "RangeIndex: 17176 entries, 0 to 17175\n",
      "Data columns (total 26 columns):\n",
      " #   Column                 Non-Null Count  Dtype  \n",
      "---  ------                 --------------  -----  \n",
      " 0   Unnamed: 0             17176 non-null  int64  \n",
      " 1   id                     17176 non-null  int64  \n",
      " 2   title                  17176 non-null  object \n",
      " 3   genres                 17176 non-null  object \n",
      " 4   overview               17176 non-null  object \n",
      " 5   budget                 17176 non-null  float64\n",
      " 6   spoken_languages       17176 non-null  object \n",
      " 7   original_language      17176 non-null  object \n",
      " 8   belongs_to_collection  2392 non-null   object \n",
      " 9   production_companies   17176 non-null  object \n",
      " 10  production_countries   17176 non-null  object \n",
      " 11  status                 17176 non-null  object \n",
      " 12  release_date           17176 non-null  object \n",
      " 13  release_year           17176 non-null  int64  \n",
      " 14  runtime                17176 non-null  float64\n",
      " 15  popularity             17176 non-null  float64\n",
      " 16  vote_count             17176 non-null  float64\n",
      " 17  vote_average           17176 non-null  float64\n",
      " 18  revenue                17176 non-null  float64\n",
      " 19  return                 17176 non-null  float64\n",
      " 20  tagline                17176 non-null  object \n",
      " 21  character              17176 non-null  object \n",
      " 22  cast                   17176 non-null  object \n",
      " 23  department             17176 non-null  object \n",
      " 24  job                    17176 non-null  object \n",
      " 25  crew                   17176 non-null  object \n",
      "dtypes: float64(7), int64(3), object(16)\n",
      "memory usage: 3.4+ MB\n"
     ]
    }
   ],
   "source": [
    "df_movies_credits_merge_by_id.info()"
   ]
  },
  {
   "cell_type": "code",
   "execution_count": 42,
   "metadata": {},
   "outputs": [
    {
     "name": "stdout",
     "output_type": "stream",
     "text": [
      "Cantidad de nulos:  Unnamed: 0                   0\n",
      "id                           0\n",
      "title                        0\n",
      "genres                       0\n",
      "overview                     0\n",
      "budget                       0\n",
      "spoken_languages             0\n",
      "original_language            0\n",
      "belongs_to_collection    14784\n",
      "production_companies         0\n",
      "production_countries         0\n",
      "status                       0\n",
      "release_date                 0\n",
      "release_year                 0\n",
      "runtime                      0\n",
      "popularity                   0\n",
      "vote_count                   0\n",
      "vote_average                 0\n",
      "revenue                      0\n",
      "return                       0\n",
      "tagline                      0\n",
      "character                    0\n",
      "cast                         0\n",
      "department                   0\n",
      "job                          0\n",
      "crew                         0\n",
      "dtype: int64\n",
      "Tamaño antes de eliminar las filas con datos nulos: (17176, 26)\n"
     ]
    }
   ],
   "source": [
    "print('Cantidad de nulos: ', df_movies_credits_merge_by_id.isnull().sum())\n",
    "print(f'Tamaño antes de eliminar las filas con datos nulos: {df_movies_credits_merge_by_id.shape}')"
   ]
  },
  {
   "cell_type": "code",
   "execution_count": 6,
   "metadata": {},
   "outputs": [],
   "source": [
    "# Eliminando columna Unnamed: 0, de ambos datasets\n",
    "df_movies_credits_merge_by_id.drop('Unnamed: 0', axis=1, inplace=True)"
   ]
  },
  {
   "cell_type": "code",
   "execution_count": 44,
   "metadata": {},
   "outputs": [
    {
     "data": {
      "text/html": [
       "<div>\n",
       "<style scoped>\n",
       "    .dataframe tbody tr th:only-of-type {\n",
       "        vertical-align: middle;\n",
       "    }\n",
       "\n",
       "    .dataframe tbody tr th {\n",
       "        vertical-align: top;\n",
       "    }\n",
       "\n",
       "    .dataframe thead th {\n",
       "        text-align: right;\n",
       "    }\n",
       "</style>\n",
       "<table border=\"1\" class=\"dataframe\">\n",
       "  <thead>\n",
       "    <tr style=\"text-align: right;\">\n",
       "      <th></th>\n",
       "      <th>id</th>\n",
       "      <th>budget</th>\n",
       "      <th>release_year</th>\n",
       "      <th>runtime</th>\n",
       "      <th>popularity</th>\n",
       "      <th>vote_count</th>\n",
       "      <th>vote_average</th>\n",
       "      <th>revenue</th>\n",
       "      <th>return</th>\n",
       "    </tr>\n",
       "  </thead>\n",
       "  <tbody>\n",
       "    <tr>\n",
       "      <th>count</th>\n",
       "      <td>17176.000000</td>\n",
       "      <td>1.717600e+04</td>\n",
       "      <td>17176.000000</td>\n",
       "      <td>17176.000000</td>\n",
       "      <td>17176.000000</td>\n",
       "      <td>17176.000000</td>\n",
       "      <td>17176.000000</td>\n",
       "      <td>1.717600e+04</td>\n",
       "      <td>1.717600e+04</td>\n",
       "    </tr>\n",
       "    <tr>\n",
       "      <th>mean</th>\n",
       "      <td>80228.743188</td>\n",
       "      <td>1.004141e+07</td>\n",
       "      <td>1989.485387</td>\n",
       "      <td>100.627969</td>\n",
       "      <td>5.251840</td>\n",
       "      <td>257.695331</td>\n",
       "      <td>5.845732</td>\n",
       "      <td>2.806235e+07</td>\n",
       "      <td>1.338300e+03</td>\n",
       "    </tr>\n",
       "    <tr>\n",
       "      <th>std</th>\n",
       "      <td>101967.197320</td>\n",
       "      <td>2.651748e+07</td>\n",
       "      <td>23.651972</td>\n",
       "      <td>24.594686</td>\n",
       "      <td>8.720734</td>\n",
       "      <td>768.476583</td>\n",
       "      <td>1.408886</td>\n",
       "      <td>1.010088e+08</td>\n",
       "      <td>1.151995e+05</td>\n",
       "    </tr>\n",
       "    <tr>\n",
       "      <th>min</th>\n",
       "      <td>5.000000</td>\n",
       "      <td>0.000000e+00</td>\n",
       "      <td>1896.000000</td>\n",
       "      <td>0.000000</td>\n",
       "      <td>0.000001</td>\n",
       "      <td>0.000000</td>\n",
       "      <td>0.000000</td>\n",
       "      <td>0.000000e+00</td>\n",
       "      <td>0.000000e+00</td>\n",
       "    </tr>\n",
       "    <tr>\n",
       "      <th>25%</th>\n",
       "      <td>13907.250000</td>\n",
       "      <td>0.000000e+00</td>\n",
       "      <td>1973.000000</td>\n",
       "      <td>89.000000</td>\n",
       "      <td>1.053135</td>\n",
       "      <td>8.000000</td>\n",
       "      <td>5.300000</td>\n",
       "      <td>0.000000e+00</td>\n",
       "      <td>0.000000e+00</td>\n",
       "    </tr>\n",
       "    <tr>\n",
       "      <th>50%</th>\n",
       "      <td>38356.500000</td>\n",
       "      <td>0.000000e+00</td>\n",
       "      <td>1997.000000</td>\n",
       "      <td>97.000000</td>\n",
       "      <td>3.385463</td>\n",
       "      <td>30.000000</td>\n",
       "      <td>6.000000</td>\n",
       "      <td>0.000000e+00</td>\n",
       "      <td>0.000000e+00</td>\n",
       "    </tr>\n",
       "    <tr>\n",
       "      <th>75%</th>\n",
       "      <td>91923.500000</td>\n",
       "      <td>5.200000e+06</td>\n",
       "      <td>2010.000000</td>\n",
       "      <td>110.000000</td>\n",
       "      <td>7.768241</td>\n",
       "      <td>144.000000</td>\n",
       "      <td>6.700000</td>\n",
       "      <td>5.823823e+06</td>\n",
       "      <td>1.061691e-01</td>\n",
       "    </tr>\n",
       "    <tr>\n",
       "      <th>max</th>\n",
       "      <td>461805.000000</td>\n",
       "      <td>3.800000e+08</td>\n",
       "      <td>2017.000000</td>\n",
       "      <td>877.000000</td>\n",
       "      <td>547.488298</td>\n",
       "      <td>14075.000000</td>\n",
       "      <td>10.000000</td>\n",
       "      <td>2.787965e+09</td>\n",
       "      <td>1.239638e+07</td>\n",
       "    </tr>\n",
       "  </tbody>\n",
       "</table>\n",
       "</div>"
      ],
      "text/plain": [
       "                  id        budget  release_year       runtime    popularity  \\\n",
       "count   17176.000000  1.717600e+04  17176.000000  17176.000000  17176.000000   \n",
       "mean    80228.743188  1.004141e+07   1989.485387    100.627969      5.251840   \n",
       "std    101967.197320  2.651748e+07     23.651972     24.594686      8.720734   \n",
       "min         5.000000  0.000000e+00   1896.000000      0.000000      0.000001   \n",
       "25%     13907.250000  0.000000e+00   1973.000000     89.000000      1.053135   \n",
       "50%     38356.500000  0.000000e+00   1997.000000     97.000000      3.385463   \n",
       "75%     91923.500000  5.200000e+06   2010.000000    110.000000      7.768241   \n",
       "max    461805.000000  3.800000e+08   2017.000000    877.000000    547.488298   \n",
       "\n",
       "         vote_count  vote_average       revenue        return  \n",
       "count  17176.000000  17176.000000  1.717600e+04  1.717600e+04  \n",
       "mean     257.695331      5.845732  2.806235e+07  1.338300e+03  \n",
       "std      768.476583      1.408886  1.010088e+08  1.151995e+05  \n",
       "min        0.000000      0.000000  0.000000e+00  0.000000e+00  \n",
       "25%        8.000000      5.300000  0.000000e+00  0.000000e+00  \n",
       "50%       30.000000      6.000000  0.000000e+00  0.000000e+00  \n",
       "75%      144.000000      6.700000  5.823823e+06  1.061691e-01  \n",
       "max    14075.000000     10.000000  2.787965e+09  1.239638e+07  "
      ]
     },
     "execution_count": 44,
     "metadata": {},
     "output_type": "execute_result"
    }
   ],
   "source": [
    "df_movies_credits_merge_by_id.describe()"
   ]
  },
  {
   "cell_type": "code",
   "execution_count": 45,
   "metadata": {},
   "outputs": [],
   "source": [
    "df_movies_credits_merge_by_id.drop_duplicates(inplace=True)"
   ]
  },
  {
   "cell_type": "markdown",
   "metadata": {},
   "source": [
    "2.- **`Detectando outlies o valores extremos`**"
   ]
  },
  {
   "cell_type": "code",
   "execution_count": 7,
   "metadata": {},
   "outputs": [
    {
     "name": "stdout",
     "output_type": "stream",
     "text": [
      "Columna id: 17169 subniveles\n",
      "Columna title: 16421 subniveles\n",
      "Columna genres: 2544 subniveles\n",
      "Columna overview: 17164 subniveles\n",
      "Columna budget: 800 subniveles\n",
      "Columna spoken_languages: 984 subniveles\n",
      "Columna original_language: 56 subniveles\n",
      "Columna belongs_to_collection: 1090 subniveles\n",
      "Columna production_companies: 12118 subniveles\n",
      "Columna production_countries: 1076 subniveles\n",
      "Columna status: 5 subniveles\n",
      "Columna release_date: 10149 subniveles\n",
      "Columna release_year: 107 subniveles\n",
      "Columna runtime: 236 subniveles\n",
      "Columna popularity: 17091 subniveles\n",
      "Columna vote_count: 1790 subniveles\n",
      "Columna vote_average: 88 subniveles\n",
      "Columna revenue: 5428 subniveles\n",
      "Columna return: 4455 subniveles\n",
      "Columna tagline: 17082 subniveles\n",
      "Columna character: 16977 subniveles\n",
      "Columna cast: 17161 subniveles\n",
      "Columna department: 12820 subniveles\n",
      "Columna job: 13854 subniveles\n",
      "Columna crew: 17101 subniveles\n"
     ]
    }
   ],
   "source": [
    "# Conteo de los niveles en las diferentes columnas categoricas para las que se tienen idea, por ejemplo: si es sexo deberia tener 2 categorias hombre o mujer (por ahora).\n",
    "# si es estado civil puede haber soltero, casado, divorciado, otros, etc.\n",
    "# Con esto podemos determinar si alguna tiene una sola cetegoria, entonces, esta columna no aportara nada.\n",
    "\n",
    "# Si se desea en algunos datos categoricos que si tenemos idea de cuantas categorias deberia traer.\n",
    "# columnas = ['adult', 'genres', 'original_language', 'spoken_languages', 'status', 'video']\n",
    "\n",
    "for col in df_movies_credits_merge_by_id:\n",
    "    print(f'Columna {col}: {len(df_movies_credits_merge_by_id[col].unique())} subniveles')"
   ]
  },
  {
   "cell_type": "code",
   "execution_count": 23,
   "metadata": {},
   "outputs": [
    {
     "data": {
      "image/png": "[encoded data removed]",
      "text/plain": [
       "<Figure size 576x720 with 3 Axes>"
      ]
     },
     "metadata": {
      "needs_background": "light"
     },
     "output_type": "display_data"
    }
   ],
   "source": [
    "# Verificar si hay outlies o valores extremos, se debe decidir si se eliminan o se mantienen, \n",
    "# eso depende de lo que deseamos.\n",
    "columnas_numericas = ['popularity', 'vote_count', 'release_year']\n",
    "fig, ax = plt.subplots(nrows=3, ncols=1, figsize=(8,10))\n",
    "fig.subplots_adjust(hspace=0.5)\n",
    "for i, col in enumerate(columnas_numericas):\n",
    "    sns.boxplot(x=col, data=df_movies_credits_merge_by_id, ax=ax[i])\n",
    "    ax[i].set_title(col)"
   ]
  },
  {
   "cell_type": "code",
   "execution_count": 48,
   "metadata": {},
   "outputs": [
    {
     "name": "stdout",
     "output_type": "stream",
     "text": [
      "              popularity  vote_average   revenue    budget\n",
      "popularity      1.000000      0.186553  0.494568  0.410831\n",
      "vote_average    0.186553      1.000000  0.139103  0.103564\n",
      "revenue         0.494568      0.139103  1.000000  0.766018\n",
      "budget          0.410831      0.103564  0.766018  1.000000\n"
     ]
    }
   ],
   "source": [
    "# Matriz de correlacion\n",
    "\n",
    "# columnas_utilizar = ['belongs_to_collection', 'popularity', 'vote_average', 'budget', 'revenue']\n",
    "columnas_numericas = ['popularity', 'vote_average', 'revenue', 'budget']\n",
    "# Matriz de correlación\n",
    "correlation_matrix = df_movies_credits_merge_by_id[columnas_numericas].corr()\n",
    "print(correlation_matrix)"
   ]
  },
  {
   "cell_type": "code",
   "execution_count": 26,
   "metadata": {},
   "outputs": [
    {
     "data": {
      "text/plain": [
       "array([[<AxesSubplot:title={'center':'release_year'}>,\n",
       "        <AxesSubplot:title={'center':'popularity'}>],\n",
       "       [<AxesSubplot:title={'center':'vote_count'}>,\n",
       "        <AxesSubplot:title={'center':'vote_average'}>]], dtype=object)"
      ]
     },
     "execution_count": 26,
     "metadata": {},
     "output_type": "execute_result"
    },
    {
     "data": {
      "image/png": "[encoded data removed]",
      "text/plain": [
       "<Figure size 864x720 with 4 Axes>"
      ]
     },
     "metadata": {
      "needs_background": "light"
     },
     "output_type": "display_data"
    }
   ],
   "source": [
    "# Distribuciones de variables numéricas\n",
    "columnas = ['release_year', 'popularity', 'vote_count', 'vote_average']\n",
    "df_movies_credits_merge_by_id[columnas].hist(figsize=(12, 10))"
   ]
  },
  {
   "cell_type": "markdown",
   "metadata": {},
   "source": [
    "- - -\n",
    "Trabajando con generos de las peliculas"
   ]
  },
  {
   "cell_type": "code",
   "execution_count": 6,
   "metadata": {},
   "outputs": [
    {
     "data": {
      "image/png": "[encoded data removed]",
      "text/plain": [
       "<Figure size 720x432 with 1 Axes>"
      ]
     },
     "metadata": {
      "needs_background": "light"
     },
     "output_type": "display_data"
    }
   ],
   "source": [
    "# Hacemos un dataset nuevo con solo las peliculas y los generos se parados en columnas numericas\n",
    "peliculas_generos = df_movies_credits_merge_by_id[['title', 'genres', 'release_year']].copy()\n",
    "peliculas_generos['genres'] = df_movies_credits_merge_by_id.genres.str.split(',')\n",
    "\n",
    "for index, row in peliculas_generos.iterrows():                 # Se recorre toda la matriz\n",
    "    for genre in row['genres']:                                 # se buscan los generos y\n",
    "        peliculas_generos.at[index, genre] = 1                  # se le coloca 1 al genero encontrado\n",
    "peliculas_generos = peliculas_generos.fillna(0)                 # En la columna que no tiene nada en el genero, se le coloca 0\n",
    "\n",
    "peliculas_generos.drop(columns=['genres'], inplace=True)        # Le quitamos la olumna genres\n",
    "\n",
    "# Columnas de generos para tenerlas filtradas\n",
    "columnas = ['Adventure', 'Fantasy', 'Family', 'Romance', 'Comedy', 'Drama',\n",
    "       'Action', 'Crime', 'Thriller', 'Animation', 'History',\n",
    "       'Science Fiction', 'Mystery', 'War', 'Music', 'Horror', 'Documentary',\n",
    "       'Foreign', 'Western', 'TV Movie']\n",
    "\n",
    "suma_generos = peliculas_generos[columnas].sum().sort_values(ascending=False)\n",
    "\n",
    "suma_generos.plot(kind='bar', x=suma_generos, y=columnas, figsize=(10, 6), color='blue', width=0.8)\n",
    "plt.title('Peliciulas por Generos')\n",
    "plt.xlabel('Generos')\n",
    "plt.ylabel('Peliculas')\n",
    "plt.show()"
   ]
  },
  {
   "cell_type": "markdown",
   "metadata": {},
   "source": [
    "- - -\n",
    "\n",
    "# <h2 align=center> **API -  Application Programming Interface** </h1>"
   ]
  },
  {
   "cell_type": "code",
   "execution_count": 2,
   "metadata": {},
   "outputs": [],
   "source": [
    "# Se importa el archivo 'LARG_moviesdataset_reducido_ml_sample_60.csv' con los datos de las peliculas,\n",
    "# este archivo ya contiene la data limpia .\n",
    "# Debido a que se dispone un servidor API gratis en render, este solo puede cargar 512 Mb de memoria, \n",
    "# se reduce el datasets para permitir que no ocupe toda la memoria gratis.\n",
    "# Se trabaja con un dataframe, reducido el 60% de las filas de forma aleatoria\n",
    "# Index: 10306\n",
    "# Data columns (total 25 columns)\n",
    "\n",
    "ruta_archivo_movies = \"./Datasets/LARG_moviesdataset_reducido_ml_sample_60.csv\"\n",
    "df_movies_des = pd.read_csv(ruta_archivo_movies)"
   ]
  },
  {
   "cell_type": "code",
   "execution_count": 3,
   "metadata": {},
   "outputs": [],
   "source": [
    "# 1.- def peliculas_idioma( Idioma: str ): \n",
    "# Se ingresa un idioma (como están escritos en el dataset, no hay que traducirlos!). \n",
    "# Debe devolver la cantidad de películas producidas en ese idioma.\n",
    "# Ejemplo: es -> Español, en -> Inglés, fr -> Frances\n",
    "\n",
    "def peliculas_idioma(idioma:str):\n",
    "    try:\n",
    "        valores = df_movies_des[df_movies_des['original_language'] == idioma]\n",
    "        cant_peliculas = int(valores['original_language'].count())\n",
    "    except (ValueError, SyntaxError):\n",
    "        pass \n",
    "    return {'Idioma indicado':idioma, 'Cantidad encontrada': cant_peliculas}"
   ]
  },
  {
   "cell_type": "code",
   "execution_count": 4,
   "metadata": {},
   "outputs": [
    {
     "name": "stdout",
     "output_type": "stream",
     "text": [
      "{'Idioma indicado': 'en', 'Cantidad encontrada': 9040}\n"
     ]
    }
   ],
   "source": [
    "# Probando la funcion\n",
    "\n",
    "cant_peliculas_producidas = peliculas_idioma('en')\n",
    "print(cant_peliculas_producidas)"
   ]
  },
  {
   "cell_type": "code",
   "execution_count": 5,
   "metadata": {},
   "outputs": [],
   "source": [
    "# 2.- def peliculas_duracion( Pelicula: str ): \n",
    "# Se ingresa una pelicula. Debe devolver la duracion y el año.\n",
    "# Ejemplo: Toy Story, Jumanji, Grumpier Old Men, Waiting to Exhale,\tFather of the Bride Part II\n",
    "\n",
    "def pelicula_duracion_anno(pelicula: str):\n",
    "    try:\n",
    "        duracion_min = df_movies_des[df_movies_des['title'] == pelicula]['runtime']\n",
    "        anno = df_movies_des[df_movies_des['title'] == pelicula]['release_year']\n",
    "    except (ValueError, SyntaxError):\n",
    "        pass \n",
    "    return {'Nombre Pelicula':pelicula, 'Duracion en minutos':duracion_min, 'Año de estreno':anno}"
   ]
  },
  {
   "cell_type": "code",
   "execution_count": 6,
   "metadata": {},
   "outputs": [
    {
     "name": "stdout",
     "output_type": "stream",
     "text": [
      "{'Nombre Pelicula': 'Jumanji', 'Duracion en minutos': 8183    104.0\n",
      "Name: runtime, dtype: float64, 'Año de estreno': 8183    1995\n",
      "Name: release_year, dtype: int64}\n"
     ]
    }
   ],
   "source": [
    "# Probando la funcion\n",
    "\n",
    "pelicula_dur_anno = pelicula_duracion_anno('Jumanji')\n",
    "print(pelicula_dur_anno)"
   ]
  },
  {
   "cell_type": "code",
   "execution_count": 7,
   "metadata": {},
   "outputs": [],
   "source": [
    "# 3.- def franquicia( Franquicia: str ): \n",
    "# Se ingresa la franquicia, retornando la cantidad de peliculas, ganancia total y promedio.\n",
    "# Ejemplo: James Bond, Toy Story, Living Dead, A Nightmare on Elm Street, Beverly Hills Chihuahua\n",
    "\n",
    "def franquicia_cant_gana_prom_peliculas(franquicia:str):\n",
    "    try:\n",
    "        cantidad_peliculas = int(df_movies_des[df_movies_des['belongs_to_collection'] == franquicia]['title'].count())\n",
    "        ganancia_total = float(df_movies_des[df_movies_des['belongs_to_collection'] == franquicia]['revenue'].sum())\n",
    "        ganancia_promedio = 0\n",
    "        if cantidad_peliculas != 0:\n",
    "            ganancia_promedio = float(ganancia_total/cantidad_peliculas)\n",
    "    except (ValueError, SyntaxError):\n",
    "        pass \n",
    "    return {'Titulo franquicia':franquicia, 'Cantidad peliculas':cantidad_peliculas, 'Ganancia Total':ganancia_total, 'Promedio ganancia':ganancia_promedio}"
   ]
  },
  {
   "cell_type": "code",
   "execution_count": 8,
   "metadata": {},
   "outputs": [
    {
     "name": "stdout",
     "output_type": "stream",
     "text": [
      "{'Titulo franquicia': 'Living Dead', 'Cantidad peliculas': 10, 'Ganancia Total': 260364858.0, 'Promedio ganancia': 26036485.8}\n"
     ]
    }
   ],
   "source": [
    "# Probando la funcion\n",
    "\n",
    "franquicia_cant_gana_prom_peli = franquicia_cant_gana_prom_peliculas('Living Dead')\n",
    "print(franquicia_cant_gana_prom_peli)"
   ]
  },
  {
   "cell_type": "code",
   "execution_count": 9,
   "metadata": {},
   "outputs": [],
   "source": [
    "# 4.- def peliculas_pais(Pais: str): \n",
    "# Se ingresa un país (como están escritos en el dataset, no hay que traducirlos!),\n",
    "# retornando la cantidad de peliculas producidas en el mismo.\n",
    "# Ejemplo: United States of America, Canada, Spain, China,\tRussia, Germany, Australia, United Kingdom\n",
    "\n",
    "def peliculas_pais(pais:str):\n",
    "    try:\n",
    "        cant_peliculas = int(df_movies_des[df_movies_des['production_countries'] == pais]['title'].count())\n",
    "    except (ValueError, SyntaxError):\n",
    "        pass \n",
    "    return {'Pais':pais, 'Cantidad de peliculas que ha producido':cant_peliculas}"
   ]
  },
  {
   "cell_type": "code",
   "execution_count": 10,
   "metadata": {},
   "outputs": [
    {
     "name": "stdout",
     "output_type": "stream",
     "text": [
      "{'Pais': 'United Kingdom', 'Cantidad de peliculas que ha producido': 593}\n"
     ]
    }
   ],
   "source": [
    "# Probando la funcion\n",
    "\n",
    "pais_cant_peli = peliculas_pais('United Kingdom')\n",
    "print(pais_cant_peli)"
   ]
  },
  {
   "cell_type": "code",
   "execution_count": 11,
   "metadata": {},
   "outputs": [],
   "source": [
    "# 5.- def productoras_exitosas( Productora: str ): \n",
    "# Se ingresa la productora, entregandote el revunue total y la cantidad de peliculas que realizo.\n",
    "# Ejemplo: Paramount Pictures,\tLaurel Group, Gran Via Productions, Metro-Goldwyn-Mayer (MGM), Safir Films, Walt Disney Pictures,\n",
    "# Republic Pictures, Warner Bros., Rysher Entertainment, Marvista Entertainment, Feifer Worldwide\n",
    "\n",
    "def productoras_exitosas(productora:str):\n",
    "    try:\n",
    "        total_revenue = float(df_movies_des[df_movies_des['production_companies'] == productora]['revenue'].sum())\n",
    "        cantidad_peliculas = int(df_movies_des[df_movies_des['production_companies'] == productora]['revenue'].count())\n",
    "    except (ValueError, SyntaxError):\n",
    "        pass \n",
    "    return {'Productora':productora, 'Total ingresos': total_revenue,'Cantidad de peliculas':cantidad_peliculas}"
   ]
  },
  {
   "cell_type": "code",
   "execution_count": 12,
   "metadata": {},
   "outputs": [
    {
     "name": "stdout",
     "output_type": "stream",
     "text": [
      "{'Productora': 'Walt Disney Pictures', 'Total ingresos': 3367407539.0, 'Cantidad de peliculas': 38}\n"
     ]
    }
   ],
   "source": [
    "prod_ingresos_cant_peli = productoras_exitosas('Walt Disney Pictures')\n",
    "print(prod_ingresos_cant_peli)"
   ]
  },
  {
   "cell_type": "markdown",
   "metadata": {},
   "source": [
    "- - -\n",
    "Prueba 1 de la funcion 6"
   ]
  },
  {
   "cell_type": "code",
   "execution_count": 61,
   "metadata": {},
   "outputs": [],
   "source": [
    "# 6.- def get_director( nombre_director ): \n",
    "# Se ingresa el nombre de un director que se encuentre dentro de un dataset debiendo devolver el éxito del mismo medido a través del retorno.\n",
    "# Además, deberá devolver el nombre de cada película con la fecha de lanzamiento, retorno individual, costo y ganancia de la misma, \n",
    "# en formato lista.\n",
    "# Ejemplo: Forest Whitaker, John Lasseter, Howard Deutch,\n",
    "\n",
    "# def peliculas_idioma( Idioma: str ): \n",
    "# Se ingresa un idioma (como están escritos en el dataset, no hay que traducirlos!). \n",
    "# Debe devolver la cantidad de películas producidas en ese idioma.\n",
    "# df_split_job = df_movies_des['job'].str.split(',')\n",
    "# df_split_crew = df_movies_des['crew'].str.split(',')\n",
    "\n",
    "# def get_director(director:str):\n",
    "#     try:\n",
    "#         lista = []\n",
    "#         for i, valor in enumerate(df_split_job):\n",
    "#             for j in range(len(valor)):\n",
    "#                 if valor[j] == 'Director':\n",
    "#                     if (df_split_crew[i][j] == director):\n",
    "#                         lista.append([df_split_crew[i][j], \n",
    "#                                     df_movies_des['title'][i],\n",
    "#                                     df_movies_des['release_date'][i],\n",
    "#                                     round(df_movies_des['return'][i], 2),\n",
    "#                                     df_movies_des['budget'][i],\n",
    "#                                     df_movies_des['revenue'][i]])\n",
    "#     except (ValueError, SyntaxError):\n",
    "#         pass \n",
    "#     return lista\n"
   ]
  },
  {
   "cell_type": "markdown",
   "metadata": {},
   "source": [
    "- - -\n",
    "Prueba 2 de la funcion 6\n",
    "\n",
    "Esta es la funcion que se utiliza en la API."
   ]
  },
  {
   "cell_type": "code",
   "execution_count": 13,
   "metadata": {},
   "outputs": [],
   "source": [
    "# 6.- def get_director( nombre_director ): \n",
    "# Se ingresa el nombre de un director que se encuentre dentro de un dataset debiendo devolver el éxito del mismo medido a través del retorno.\n",
    "# Además, deberá devolver el nombre de cada película con la fecha de lanzamiento, retorno individual, costo y ganancia de la misma, \n",
    "# en formato lista.\n",
    "# Ejemplo: Forest Whitaker, John Lasseter, Howard Deutch,\n",
    "\n",
    "# def peliculas_idioma( Idioma: str ): \n",
    "# Se ingresa un idioma (como están escritos en el dataset, no hay que traducirlos!). \n",
    "# Debe devolver la cantidad de películas producidas en ese idioma.\n",
    "\n",
    "# @app.get('/get_director/{nombre_director}')\n",
    "def get_director(nombre_director:str):\n",
    "    try:\n",
    "        df_Director = df_movies_des[df_movies_des['crew'].str.contains(nombre_director)]\n",
    "        Peliculas_del_Director = df_Director[['title', 'release_year', 'revenue', 'budget']]\n",
    "        retorno_total_director = 0\n",
    "        if(Peliculas_del_Director['budget'].sum() != 0):\n",
    "            retorno_total_director = (Peliculas_del_Director['revenue'].sum() / Peliculas_del_Director['budget'].sum())\n",
    "        Lista_De_Dicc = Peliculas_del_Director.to_dict('records')        \n",
    "    except (ValueError, SyntaxError):\n",
    "        pass \n",
    "    return {'director':nombre_director, 'retorno_total_director':retorno_total_director, 'peliculas':Lista_De_Dicc}"
   ]
  },
  {
   "cell_type": "code",
   "execution_count": 14,
   "metadata": {},
   "outputs": [
    {
     "name": "stdout",
     "output_type": "stream",
     "text": [
      "{'director': 'John Lasseter', 'retorno_total_director': 4.390119566504065, 'peliculas': [{'title': 'Monsters, Inc.', 'release_year': 2001, 'revenue': 562816256.0, 'budget': 115000000.0}, {'title': 'Finding Dory', 'release_year': 2016, 'revenue': 1028570889.0, 'budget': 200000000.0}, {'title': 'Finding Dory', 'release_year': 2016, 'revenue': 1028570889.0, 'budget': 200000000.0}, {'title': 'Wreck-It Ralph', 'release_year': 2012, 'revenue': 471222889.0, 'budget': 165000000.0}, {'title': 'Zootopia', 'release_year': 2016, 'revenue': 1023784195.0, 'budget': 150000000.0}, {'title': 'Moana', 'release_year': 2016, 'revenue': 643034466.0, 'budget': 150000000.0}, {'title': 'Cars', 'release_year': 2006, 'revenue': 461983149.0, 'budget': 120000000.0}, {'title': 'Cars 3', 'release_year': 2017, 'revenue': 350170057.0, 'budget': 175000000.0}, {'title': 'WALL·E', 'release_year': 2008, 'revenue': 521311860.0, 'budget': 180000000.0}, {'title': 'Toy Story 3', 'release_year': 2010, 'revenue': 1066969703.0, 'budget': 200000000.0}, {'title': 'Partysaurus Rex', 'release_year': 2012, 'revenue': 0.0, 'budget': 0.0}, {'title': 'The Incredibles', 'release_year': 2004, 'revenue': 631442092.0, 'budget': 92000000.0}, {'title': 'The Good Dinosaur', 'release_year': 2015, 'revenue': 331926147.0, 'budget': 175000000.0}, {'title': 'Monsters, Inc.', 'release_year': 2001, 'revenue': 562816256.0, 'budget': 115000000.0}, {'title': 'Toy Story 3', 'release_year': 2010, 'revenue': 1066969703.0, 'budget': 200000000.0}, {'title': 'The Incredibles', 'release_year': 2004, 'revenue': 631442092.0, 'budget': 92000000.0}, {'title': 'The Incredibles', 'release_year': 2004, 'revenue': 631442092.0, 'budget': 92000000.0}, {'title': 'Tangled', 'release_year': 2010, 'revenue': 591794936.0, 'budget': 260000000.0}, {'title': 'Finding Nemo', 'release_year': 2003, 'revenue': 940335536.0, 'budget': 94000000.0}, {'title': 'Moana', 'release_year': 2016, 'revenue': 643034466.0, 'budget': 150000000.0}, {'title': 'Tinker Bell and the Lost Treasure', 'release_year': 2009, 'revenue': 0.0, 'budget': 0.0}, {'title': 'Bolt', 'release_year': 2008, 'revenue': 309979994.0, 'budget': 150000000.0}]}\n"
     ]
    }
   ],
   "source": [
    "# John Lasseter, Forest Whitaker\n",
    "\n",
    "info_director_de_pelicula = get_director('John Lasseter')\n",
    "print(info_director_de_pelicula)"
   ]
  },
  {
   "cell_type": "markdown",
   "metadata": {},
   "source": [
    "- - -\n",
    "\n",
    "# <h2 align=center> **ML -  Machine Learning** </h1>"
   ]
  },
  {
   "cell_type": "markdown",
   "metadata": {},
   "source": [
    "**`Modelo de evaluacion 1`**\n",
    "\n",
    "wordcloud - Nubes de palabras\n",
    "\n",
    "Las nubes de palabras o nubes de etiquetas son representaciones gráficas de la frecuencia de las palabras que otorgan mayor protagonismo a las palabras que aparecen con mayor frecuencia en un texto de origen.\n",
    "\n"
   ]
  },
  {
   "cell_type": "code",
   "execution_count": 9,
   "metadata": {},
   "outputs": [],
   "source": [
    "# Se colocan las librerias para el modelo para trabajar por separado la parte de ML\n",
    "import pandas as pd\n",
    "from wordcloud import WordCloud\n",
    "from sklearn.metrics.pairwise import cosine_similarity\n",
    "from sklearn.feature_extraction.text import CountVectorizer\n",
    "from textblob import TextBlob\n",
    "import nltk\n",
    "# nltk.download()"
   ]
  },
  {
   "cell_type": "code",
   "execution_count": 71,
   "metadata": {},
   "outputs": [],
   "source": [
    "# Se importa el archivo 'LARG_moviesdataset_reducido.csv' con los datos de las peliculas,\n",
    "# este archivo ya contiene la data limpiada, para esto se instalo e importo los programas y las librerias para nltk\n",
    "\n",
    "ruta_archivo_movies = \"./Datasets/LARG_moviesdataset_reducido.csv\"\n",
    "LARG_moviesdataset_reducido = pd.read_csv(ruta_archivo_movies)\n",
    "LARG_moviesdataset_reducido.drop('Unnamed: 0', axis=1, inplace=True)"
   ]
  },
  {
   "cell_type": "code",
   "execution_count": 73,
   "metadata": {},
   "outputs": [],
   "source": [
    "# Debido a que se dispone un servidor API gratis en render, este solo puede cargar 512 Mb de memoria, se reduce el datasets para permitir que no ocupe toda la memoria gratis.\n",
    "# Opciones\n",
    "\n",
    "# 1.- Version LARG APIs V2.1 -> \n",
    "# Se quitaran todos los valores nulos que contiene el campo: belongs_to_collection\n",
    "# Index: 2392\n",
    "# Data columns (total 25 columns)\n",
    "# LARG_moviesdataset_reducido.dropna(inplace=True)\n",
    "\n",
    "# 2.-Version LARG APIs V3.1\n",
    "# Creo un dataframe, reduciendo el 60% de las filas de forma aleatoria\n",
    "# Index: 10306\n",
    "# Data columns (total 25 columns)\n",
    "LARG_moviesdataset_reducido = LARG_moviesdataset_reducido.sample(frac=0.8, replace=True)\n",
    "\n",
    "# 3.- Version LARG APIs V4.2 -> 8588 registros\n",
    "# Creo un dataframe, reduciendo el 50% de las filas de forma aleatoria pero solo de las filas que tienen NaN en la columna belongs_to_collection\n",
    "# a.- Se crea una mascara boolenan con las filas que tienen NaN en la columna belongs_to_collection\n",
    "# Mask_LARG_moviesdataset_reducido = LARG_moviesdataset_reducido['belongs_to_collection'].isna()\n",
    "#Mask_LARG_moviesdataset_reducido = LARG_moviesdataset_reducido['belongs_to_collection'].notnull()\n",
    "# b.- Aplico el sample, pero colocando el peso de la mascara\n",
    "# LARG_moviesdataset_reducido = LARG_moviesdataset_reducido.sample(frac=0.6, weights=Mask_LARG_moviesdataset_reducido)\n",
    "\n",
    "# Se hace un respaldo en disco de un archivo csv\n",
    "# ruta_archivo_credits_csv = \"./Datasets/LARG_moviesdataset_reducido_ml_sample_80.csv\"\n",
    "# LARG_moviesdataset_reducido.to_csv(ruta_archivo_credits_csv, sep=',')"
   ]
  },
  {
   "cell_type": "markdown",
   "metadata": {},
   "source": [
    "- `Caso 1 recomendacion`<br>\n",
    "Utilizando 60% de los datos y las columnas:<br> \n",
    "belongs_to_collection, popularity, vote_average, budget, revenue"
   ]
  },
  {
   "cell_type": "code",
   "execution_count": 2,
   "metadata": {},
   "outputs": [],
   "source": [
    "# Se cargan los datos\n",
    "ruta_archivo_movies = \"./Datasets/LARG_moviesdataset_reducido_ml_sample_60.csv\"\n",
    "LARG_moviesdataset_reducido = pd.read_csv(ruta_archivo_movies)\n",
    "LARG_moviesdataset_reducido.drop('Unnamed: 0', axis=1, inplace=True)\n",
    "\n",
    "# Se trabajara con los datos de las columnas: belongs_to_collection, popularity, vote_average, budget, revenue\n",
    "LARG_moviesdataset_reducido['columnas_concatenadas'] = LARG_moviesdataset_reducido['belongs_to_collection'].fillna('') + ' ' + LARG_moviesdataset_reducido['popularity'].astype(str) + ' ' + LARG_moviesdataset_reducido['vote_average'].astype(str) + ' ' + LARG_moviesdataset_reducido['budget'].astype(str) + ' ' + LARG_moviesdataset_reducido['revenue'].astype(str)\n",
    "\n",
    "# Se crea un vector para realizar el calculo de similitud, se utiliza CountVectorizer() de la libreria sklearn,\n",
    "# Esto permite crear una matriz de cantidad de tokens\n",
    "count_vectorizer = CountVectorizer()\n",
    "count_matrix = count_vectorizer.fit_transform(LARG_moviesdataset_reducido['columnas_concatenadas'])\n",
    "cosine_sim = cosine_similarity(count_matrix)\n",
    "\n",
    "# Se crea la Funcion para la recomendacion\n",
    "def recomendacion(titulo):\n",
    "    index = LARG_moviesdataset_reducido[LARG_moviesdataset_reducido['title'] == titulo].index[0]\n",
    "    similar_scores = list(enumerate(cosine_sim[index]))\n",
    "    similar_scores = sorted(similar_scores, key=lambda x: x[1], reverse=True)\n",
    "    similar_movies = [LARG_moviesdataset_reducido.iloc[i[0]]['title'] for i in similar_scores[1:6]]\n",
    "    return similar_movies"
   ]
  },
  {
   "cell_type": "code",
   "execution_count": 3,
   "metadata": {},
   "outputs": [
    {
     "name": "stdout",
     "output_type": "stream",
     "text": [
      "Recomendaciones para 'The Dark Knight':\n",
      "['The Dark Knight', 'The Dark Knight', 'Alone in the Dark', 'The Fast and the Furious: Tokyo Drift', '2 Fast 2 Furious']\n"
     ]
    }
   ],
   "source": [
    "# Verificando con: The Dark Knight, Jumanji, Autumn in New York, Blue Streak, Space Cowboys, Grumpier Old Men, La luna, Jungle Book\n",
    "# The New Barbarians, Exposed, Meet the Fokkens, Conquest of Space\n",
    "titulo_ingresado = 'The Dark Knight'\n",
    "recomendaciones = recomendacion(titulo_ingresado)\n",
    "print(f\"Recomendaciones para '{titulo_ingresado}':\")\n",
    "print(recomendaciones)"
   ]
  },
  {
   "cell_type": "markdown",
   "metadata": {},
   "source": [
    "- `Caso 2 recomendacion`<br>\n",
    "Utilizando 60% de los datos y las columnas:<br> \n",
    "belongs_to_collection, popularity, genres, cast, vote_count"
   ]
  },
  {
   "cell_type": "code",
   "execution_count": 10,
   "metadata": {},
   "outputs": [],
   "source": [
    "# Se cargan los datos\n",
    "ruta_archivo_movies = \"./Datasets/LARG_moviesdataset_reducido_ml_sample_60.csv\"\n",
    "LARG_moviesdataset_reducido = pd.read_csv(ruta_archivo_movies)\n",
    "LARG_moviesdataset_reducido.drop('Unnamed: 0', axis=1, inplace=True)\n",
    "\n",
    "# Se trabajara con los datos de las columnas: belongs_to_collection, popularity, vote_average, budget, revenue\n",
    "LARG_moviesdataset_reducido['columnas_concatenadas'] = LARG_moviesdataset_reducido['belongs_to_collection'].fillna('') + ' ' + LARG_moviesdataset_reducido['popularity'].astype(str) + ' ' + LARG_moviesdataset_reducido['genres'].astype(str) + ' ' + LARG_moviesdataset_reducido['cast'].astype(str) + ' ' + LARG_moviesdataset_reducido['vote_count'].astype(str)\n",
    "\n",
    "# Se crea un vector para realizar el calculo de similitud, se utiliza CountVectorizer() de la libreria sklearn,\n",
    "# Esto permite crear una matriz de cantidad de tokens\n",
    "count_vectorizer = CountVectorizer()\n",
    "count_matrix = count_vectorizer.fit_transform(LARG_moviesdataset_reducido['columnas_concatenadas'])\n",
    "cosine_sim = cosine_similarity(count_matrix)\n",
    "\n",
    "# Se crea la Funcion para la recomendacion\n",
    "def recomendacion(titulo):\n",
    "    index = LARG_moviesdataset_reducido[LARG_moviesdataset_reducido['title'] == titulo].index[0]\n",
    "    similar_scores = list(enumerate(cosine_sim[index]))\n",
    "    similar_scores = sorted(similar_scores, key=lambda x: x[1], reverse=True)\n",
    "    similar_movies = [LARG_moviesdataset_reducido.iloc[i[0]]['title'] for i in similar_scores[1:6]]\n",
    "    return similar_movies\n"
   ]
  },
  {
   "cell_type": "code",
   "execution_count": 13,
   "metadata": {},
   "outputs": [
    {
     "name": "stdout",
     "output_type": "stream",
     "text": [
      "Recomendaciones para 'Blue Streak':\n",
      "['Blue Streak', 'Blue Streak', 'To Live and Die in L.A.', 'To Live and Die in L.A.', 'Superman']\n"
     ]
    }
   ],
   "source": [
    "# Verificando con: The Dark Knight, Jumanji, Autumn in New York, Blue Streak, Space Cowboys, Grumpier Old Men, La luna, Jungle Book\n",
    "# The New Barbarians, Exposed, Meet the Fokkens, Conquest of Space\n",
    "titulo_ingresado = 'Blue Streak'\n",
    "recomendaciones = recomendacion(titulo_ingresado)\n",
    "print(f\"Recomendaciones para '{titulo_ingresado}':\")\n",
    "print(recomendaciones)"
   ]
  },
  {
   "cell_type": "markdown",
   "metadata": {},
   "source": [
    "- - -\n",
    "\n",
    "**`Modelo de evaluacion 2`**"
   ]
  },
  {
   "cell_type": "code",
   "execution_count": null,
   "metadata": {},
   "outputs": [],
   "source": [
    "import pandas as pd\n",
    "from sklearn.feature_extraction.text import CountVectorizer\n",
    "from sklearn.metrics.pairwise import cosine_similarity\n",
    "\n",
    "# Supongamos que tienes un DataFrame llamado df_sr con las columnas 'title', 'Generos', 'Director', 'Protagonista', 'Actor1', 'Actor2', 'revenue'\n",
    "\n",
    "# Nombre de la película que le gustó al usuario\n",
    "NombrePelicula = 'Toy Story'\n",
    "\n",
    "# Obtener el id de la película que le gustó al usuario\n",
    "movie_id = df_sr.loc[df_sr['title'] == NombrePelicula, 'id'].iloc[0]\n",
    "\n",
    "# Obteneiendo las características de las siguientes variables predictoras del Dataset\n",
    "genre_features = df_sr['Generos']\n",
    "director_features = df_sr['Director']\n",
    "protagonist_features = df_sr['Protagonista']\n",
    "actor1_features = df_sr['Actor1']\n",
    "actor2_features = df_sr['Actor2']\n",
    "anio_features = df_sr['Anio'].fillna(0).astype(str)  # Convertir a cadena y llenar valores NaN con '0'\n",
    "\n",
    "# Concatenar todas las características\n",
    "all_features = genre_features + ' ' + director_features + ' ' + protagonist_features + ' ' + actor1_features + ' ' + actor2_features + ' ' + revenue_features\n",
    "\n",
    "# Crear un objeto CountVectorizer para convertir las características en vectores\n",
    "vectorizer = CountVectorizer(analyzer='word', lowercase=True, token_pattern=r'\\w+')\n",
    "\n",
    "# Obtener la matriz de documentos término-frecuencia (DTM) a partir de las características\n",
    "all_features_matrix = vectorizer.fit_transform(all_features)\n",
    "\n",
    "# Obtener las características de la película que le gustó al usuario\n",
    "movie_features = df_sr.loc[df_sr['id'] == movie_id, 'Generos'].iloc[0] + ' ' + df_sr.loc[df_sr['id'] == movie_id, 'Director'].iloc[0] + ' ' + df_sr.loc[df_sr['id'] == movie_id, 'Protagonista'].iloc[0] + ' ' + df_sr.loc[df_sr['id'] == movie_id, 'Actor1'].iloc[0] + ' ' + df_sr.loc[df_sr['id'] == movie_id, 'Actor2'].iloc[0] + ' ' + anio_features.iloc[0]\n",
    "movie_features_matrix = vectorizer.transform([movie_features])\n",
    "\n",
    "# Calcular la similitud del coseno entre la película que le gustó al usuario y todas las demás películas\n",
    "similarities = cosine_similarity(movie_features_matrix, all_features_matrix)\n",
    "\n",
    "# Obtener los índices de las películas más similares\n",
    "similar_indices = similarities.argsort()[0][-6:-1]\n",
    "\n",
    "# Obtener los títulos de las películas más similares\n",
    "similar_movies = df_sr.loc[similar_indices, 'title']\n",
    "\n",
    "print(f\"Película: {NombrePelicula}\")\n",
    "print(f\"Id Película: {movie_id}\")\n",
    "#print(f\"Variables Predictoras en la Recomendación: {features}\")\n",
    "print(f\"Películas Recomendadas:\")\n",
    "\n",
    "similar_movies"
   ]
  },
  {
   "cell_type": "markdown",
   "metadata": {},
   "source": [
    "- - -"
   ]
  }
 ],
 "metadata": {
  "kernelspec": {
   "display_name": "Python 3",
   "language": "python",
   "name": "python3"
  },
  "language_info": {
   "codemirror_mode": {
    "name": "ipython",
    "version": 3
   },
   "file_extension": ".py",
   "mimetype": "text/x-python",
   "name": "python",
   "nbconvert_exporter": "python",
   "pygments_lexer": "ipython3",
   "version": "3.6.8"
  },
  "orig_nbformat": 4
 },
 "nbformat": 4,
 "nbformat_minor": 2
}
